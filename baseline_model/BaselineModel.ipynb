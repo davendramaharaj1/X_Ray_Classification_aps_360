{
  "nbformat": 4,
  "nbformat_minor": 0,
  "metadata": {
    "colab": {
      "name": "BaselineModel.ipynb",
      "provenance": []
    },
    "kernelspec": {
      "name": "python3",
      "display_name": "Python 3"
    }
  },
  "cells": [
    {
      "cell_type": "code",
      "metadata": {
        "id": "N4cIPNBc1zhH",
        "colab": {
          "base_uri": "https://localhost:8080/"
        },
        "outputId": "26dc2151-b1a8-498d-8fb6-0fd220cc331e"
      },
      "source": [
        "import numpy as np\n",
        "import time\n",
        "import torch\n",
        "import torch.nn as nn\n",
        "import torch.nn.functional as F\n",
        "import torch.optim as optim\n",
        "import torchvision\n",
        "from torch.utils.data.sampler import SubsetRandomSampler\n",
        "import torchvision.transforms as transforms\n",
        "import matplotlib.pyplot as plt\n",
        "import torchvision.models\n",
        "\n",
        "\n",
        "from sklearn.model_selection import train_test_split\n",
        "from sklearn.preprocessing import StandardScaler\n",
        "from sklearn.ensemble import RandomForestClassifier\n",
        "from sklearn.metrics import confusion_matrix\n",
        "from sklearn.externals import joblib\n",
        "from sklearn.metrics import accuracy_score\n",
        "from sklearn.metrics import plot_confusion_matrix"
      ],
      "execution_count": 2,
      "outputs": [
        {
          "output_type": "stream",
          "text": [
            "/usr/local/lib/python3.7/dist-packages/sklearn/externals/joblib/__init__.py:15: FutureWarning: sklearn.externals.joblib is deprecated in 0.21 and will be removed in 0.23. Please import this functionality directly from joblib, which can be installed with: pip install joblib. If this warning is raised when loading pickled models, you may need to re-serialize those models with scikit-learn 0.21+.\n",
            "  warnings.warn(msg, category=FutureWarning)\n"
          ],
          "name": "stderr"
        }
      ]
    },
    {
      "cell_type": "code",
      "metadata": {
        "colab": {
          "base_uri": "https://localhost:8080/"
        },
        "id": "fu6cwQ4KkvEx",
        "outputId": "6f9b3ed0-1383-479a-8617-a47eaa8de717"
      },
      "source": [
        "from google.colab import drive\n",
        "drive.mount('/content/gdrive')"
      ],
      "execution_count": 3,
      "outputs": [
        {
          "output_type": "stream",
          "text": [
            "Drive already mounted at /content/gdrive; to attempt to forcibly remount, call drive.mount(\"/content/gdrive\", force_remount=True).\n"
          ],
          "name": "stdout"
        }
      ]
    },
    {
      "cell_type": "code",
      "metadata": {
        "id": "PgGbz85umHM7"
      },
      "source": [
        "def loadData():\n",
        "  np.random.seed(100) \n",
        "  #Ensuring data is a 224x224 image, used the centercrop function to crop at center\n",
        "  transform = transforms.Compose([transforms.Resize((224,224)), \n",
        "                                transforms.ToTensor()])\n",
        "\n",
        "  \n",
        "  numWorkers = 1\n",
        "  batchSize = 1\n",
        "\n",
        "  classes = ['COVID-19', 'Normal', 'Pneumonial-Bacterial', 'Pneumonial-Viral']\n",
        "  #datasetPath = '/content/gdrive/MyDrive/APS360/ProgressReport/APS360SampleData'\n",
        "\n",
        "  datasetPath = '/content/gdrive/MyDrive/Winter2021/APS360/project'\n",
        "\n",
        "\n",
        "  sampleSet = torchvision.datasets.ImageFolder(datasetPath, transform=transform)\n",
        "  print(len(sampleSet))\n",
        "  #All the data loaded is valid so we can use any index\n",
        "  train = int((len(sampleSet) * 0.8))\n",
        "  #val = int((len(sampleSet) * 0.1))\n",
        "  test = int((len(sampleSet) * 0.2))\n",
        "\n",
        "  # Used the random_split data function to split the dataset into a 70, 20, 10 proportion \n",
        "  trainData, testData = torch.utils.data.random_split(sampleSet,\n",
        "                  [train,test],generator=torch.Generator().manual_seed(100))\n",
        "  \n",
        "  print(trainData, testData)  \n",
        "\n",
        "  #Load all the data\n",
        "  trainLoader = torch.utils.data.DataLoader(trainData, batch_size=batchSize, \n",
        "                                            num_workers= numWorkers,\n",
        "                                            shuffle=True)\n",
        "  # valLoader = torch.utils.data.DataLoader(valData, batch_size=batchSize, \n",
        "  #                                         num_workers= numWorkers,\n",
        "  #                                                 shuffle=True)\n",
        "  testLoader = torch.utils.data.DataLoader(testData, batch_size=batchSize, \n",
        "                                           num_workers= numWorkers,\n",
        "                                                  shuffle=True)\n",
        "  return trainLoader, testLoader"
      ],
      "execution_count": 4,
      "outputs": []
    },
    {
      "cell_type": "code",
      "metadata": {
        "colab": {
          "base_uri": "https://localhost:8080/"
        },
        "id": "_8KJu6JHmrCo",
        "outputId": "3fdf390c-f0ac-45f2-edf9-e00b977f509d"
      },
      "source": [
        "test = loadData()\n",
        "trainLoader = test[0]\n",
        "# valLoader = test[1]\n",
        "testLoader = test[1]\n",
        "print(len(trainLoader),len(testLoader))"
      ],
      "execution_count": 5,
      "outputs": [
        {
          "output_type": "stream",
          "text": [
            "950\n",
            "<torch.utils.data.dataset.Subset object at 0x7f82f2c2e550> <torch.utils.data.dataset.Subset object at 0x7f82f2c2ea10>\n",
            "760 190\n"
          ],
          "name": "stdout"
        }
      ]
    },
    {
      "cell_type": "code",
      "metadata": {
        "id": "vKlC52onnH0J"
      },
      "source": [
        "# classes = ['COVID-19', 'Normal', 'Pneumonial-Bacterial', 'Pneumonial-Viral']\n",
        "# dataiter = iter(trainLoader)\n",
        "# images, labels = dataiter.next()\n",
        "# image = np.transpose(images[0], (1, 2, 0))\n",
        "# label = classes[labels[0]]\n",
        "# for images, labels in trainLoader:\n",
        "#   print(classes[labels[0]])"
      ],
      "execution_count": null,
      "outputs": []
    },
    {
      "cell_type": "code",
      "metadata": {
        "id": "EDq66NPmu9QV"
      },
      "source": [
        "#links\n",
        "#https://towardsdatascience.com/dealing-with-multiclass-data-78a1a27c5dcc\n",
        "#https://www.codementor.io/@agarrahul01/multiclass-classification-using-random-forest-on-scikit-learn-library-hkk4lwawu"
      ],
      "execution_count": null,
      "outputs": []
    },
    {
      "cell_type": "code",
      "metadata": {
        "colab": {
          "base_uri": "https://localhost:8080/"
        },
        "id": "KqcEK0KIvhqa",
        "outputId": "568c3d76-2abf-430c-815e-3b928b00c6ed"
      },
      "source": [
        "train_x = []\n",
        "train_y = []\n",
        "\n",
        "for x, y in trainLoader:\n",
        "  train_x.append(x)\n",
        "  train_y.append(y)\n",
        "\n",
        "train_x = torch.stack(train_x)\n",
        "train_y = torch.stack(train_y)\n",
        "train_x = train_x.reshape(760, 224*224*3)\n",
        "print(train_x.shape)\n",
        "print(train_y.shape)"
      ],
      "execution_count": 6,
      "outputs": [
        {
          "output_type": "stream",
          "text": [
            "torch.Size([760, 150528])\n",
            "torch.Size([760, 1])\n"
          ],
          "name": "stdout"
        }
      ]
    },
    {
      "cell_type": "code",
      "metadata": {
        "colab": {
          "base_uri": "https://localhost:8080/"
        },
        "id": "QJKjltiUztfK",
        "outputId": "e5d3119e-58dc-4dd5-849a-a988c461189f"
      },
      "source": [
        "test_x = []\n",
        "test_y = []\n",
        "for x, y in testLoader:\n",
        "  test_x.append(x)\n",
        "  test_y.append(y)\n",
        "\n",
        "test_x = torch.stack(test_x)\n",
        "test_x = test_x.reshape(190, 224*224*3)\n",
        "test_y = torch.stack(test_y)\n",
        "print(test_x.shape)\n",
        "print(test_y.shape)"
      ],
      "execution_count": 7,
      "outputs": [
        {
          "output_type": "stream",
          "text": [
            "torch.Size([190, 150528])\n",
            "torch.Size([190, 1])\n"
          ],
          "name": "stdout"
        }
      ]
    },
    {
      "cell_type": "code",
      "metadata": {
        "colab": {
          "base_uri": "https://localhost:8080/"
        },
        "id": "nDdciTglxv5h",
        "outputId": "35d647c9-17c4-4137-a0de-ee7af619a1a8"
      },
      "source": [
        "# Create a Gaussian Classfier\n",
        "model = RandomForestClassifier(n_estimators = 220, oob_score=True, criterion = 'entropy', random_state = 100)\n",
        "model.fit(train_x,train_y)\n",
        "#predict2 = model.predict(train_x)\n",
        "predict = model.predict(test_x)\n",
        "value = accuracy_score(test_y,predict)\n",
        "#value2 = accuracy_score(train_y,predict2)\n",
        "print(value)\n",
        "#print(value2)"
      ],
      "execution_count": 35,
      "outputs": [
        {
          "output_type": "stream",
          "text": [
            "/usr/local/lib/python3.7/dist-packages/ipykernel_launcher.py:3: DataConversionWarning: A column-vector y was passed when a 1d array was expected. Please change the shape of y to (n_samples,), for example using ravel().\n",
            "  This is separate from the ipykernel package so we can avoid doing imports until\n"
          ],
          "name": "stderr"
        },
        {
          "output_type": "stream",
          "text": [
            "0.7\n"
          ],
          "name": "stdout"
        }
      ]
    },
    {
      "cell_type": "code",
      "metadata": {
        "colab": {
          "base_uri": "https://localhost:8080/"
        },
        "id": "rd3YP9o9MYK1",
        "outputId": "d7d872a0-4d60-41fc-a31c-e368b5e25672"
      },
      "source": [
        "print(predict)\n",
        "print(trainLoader)"
      ],
      "execution_count": 26,
      "outputs": [
        {
          "output_type": "stream",
          "text": [
            "[1 3 1 1 3 3 1 2 1 1 3 2 2 0 2 3 1 1 1 3 2 2 2 3 1 0 2 2 1 2 1 0 3 3 1 3 1\n",
            " 3 2 3 2 3 0 0 3 2 0 1 3 0 2 0 0 1 0 2 0 1 1 0 2 2 3 1 3 3 3 1 3 1 1 0 3 3\n",
            " 1 2 2 0 0 1 0 0 2 1 1 3 2 1 0 0 2 1 0 1 1 0 2 1 0 1 3 2 2 2 3 2 1 2 2 2 2\n",
            " 3 0 1 3 3 0 0 3 3 1 1 3 0 0 0 2 0 1 3 1 2 2 2 0 3 1 3 1 1 3 0 3 0 1 3 2 3\n",
            " 0 1 2 3 3 1 3 0 3 0 3 3 1 2 2 0 2 1 3 2 3 3 2 3 2 1 3 2 2 1 3 3 0 3 0 3 1\n",
            " 1 1 3 3 0]\n",
            "<torch.utils.data.dataloader.DataLoader object at 0x7f8359c4fcd0>\n"
          ],
          "name": "stdout"
        }
      ]
    },
    {
      "cell_type": "code",
      "metadata": {
        "colab": {
          "base_uri": "https://localhost:8080/",
          "height": 333
        },
        "id": "iro1imeBNpzJ",
        "outputId": "e74b4f95-64e9-4b9e-9a39-5732357acf4b"
      },
      "source": [
        "labels = [0,1,2,3]\n",
        "conf_mat = confusion_matrix(test_y, predict, normalize='true')\n",
        "print(conf_mat)\n",
        "# Visualize it as a heatmap\n",
        "import seaborn\n",
        "seaborn.heatmap(conf_mat)\n",
        "plt.show()"
      ],
      "execution_count": 27,
      "outputs": [
        {
          "output_type": "stream",
          "text": [
            "[[0.94117647 0.         0.         0.05882353]\n",
            " [0.07017544 0.8245614  0.07017544 0.03508772]\n",
            " [0.05555556 0.         0.5        0.44444444]\n",
            " [0.         0.08888889 0.31111111 0.6       ]]\n"
          ],
          "name": "stdout"
        },
        {
          "output_type": "display_data",
          "data": {
            "image/png": "[encoded data removed]",
            "text/plain": [
              "<Figure size 432x288 with 2 Axes>"
            ]
          },
          "metadata": {
            "tags": [],
            "needs_background": "light"
          }
        }
      ]
    },
    {
      "cell_type": "code",
      "metadata": {
        "colab": {
          "base_uri": "https://localhost:8080/"
        },
        "id": "y8GLNgFNOy0S",
        "outputId": "737635f9-11ff-466b-aa5d-7e5c62efbeb1"
      },
      "source": [
        "print(test_y.shape)\n",
        "predictions = torch.from_numpy(predict)\n",
        "print(predictions.shape)"
      ],
      "execution_count": 28,
      "outputs": [
        {
          "output_type": "stream",
          "text": [
            "torch.Size([190, 1])\n",
            "torch.Size([190])\n"
          ],
          "name": "stdout"
        }
      ]
    },
    {
      "cell_type": "code",
      "metadata": {
        "colab": {
          "base_uri": "https://localhost:8080/",
          "height": 580
        },
        "id": "cytUWUP1QCKS",
        "outputId": "d136c9cc-aed9-496a-8673-9180eb5da276"
      },
      "source": [
        "#plt.figure(figsize=(100, 100))\n",
        "fig, ax = plt.subplots(figsize=(10, 10))\n",
        "classes = ['COVID-19', 'Normal', 'Pneumonial-Bacterial', 'Pneumonial-Viral']\n",
        "disp = plot_confusion_matrix(model, test_x, test_y,\n",
        "                            display_labels=classes,\n",
        "                            cmap=plt.cm.Blues, ax=ax)\n",
        "#disp.ax_.set_adjustable()\n",
        "#print(disp.confusion_matrix)\n",
        "plt.show()"
      ],
      "execution_count": 36,
      "outputs": [
        {
          "output_type": "display_data",
          "data": {
            "image/png": "[encoded data removed]",
            "text/plain": [
              "<Figure size 720x720 with 2 Axes>"
            ]
          },
          "metadata": {
            "tags": [],
            "needs_background": "light"
          }
        }
      ]
    }
  ]
}