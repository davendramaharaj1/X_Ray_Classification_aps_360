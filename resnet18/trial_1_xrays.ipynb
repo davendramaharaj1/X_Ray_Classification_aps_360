{
 "cells": [
  {
   "cell_type": "code",
   "execution_count": 21,
   "id": "brave-miniature",
   "metadata": {
    "id": "corrected-value"
   },
   "outputs": [],
   "source": [
    "import sagemaker\n",
    "import boto3\n",
    "from sagemaker.amazon.amazon_estimator import get_image_uri \n",
    "from sagemaker.session import s3_input, Session"
   ]
  },
  {
   "cell_type": "markdown",
   "id": "nominated-recognition",
   "metadata": {
    "id": "likely-excellence"
   },
   "source": [
    "## Create bucket & Validation Region for S3"
   ]
  },
  {
   "cell_type": "code",
   "execution_count": 22,
   "id": "lonely-corner",
   "metadata": {
    "id": "protecting-desktop"
   },
   "outputs": [
    {
     "name": "stdout",
     "output_type": "stream",
     "text": [
      "us-east-2\n"
     ]
    }
   ],
   "source": [
    "bucket_name = 'aps360project' # <--- CHANGE THIS VARIABLE TO A UNIQUE NAME FOR YOUR BUCKET\n",
    "my_region = boto3.session.Session().region_name # set the region of the instance\n",
    "print(my_region)"
   ]
  },
  {
   "cell_type": "markdown",
   "id": "opposed-darwin",
   "metadata": {
    "id": "individual-danish"
   },
   "source": [
    "## Create Paths to S3 Buckets for storage of model data"
   ]
  },
  {
   "cell_type": "code",
   "execution_count": 23,
   "id": "neither-writing",
   "metadata": {
    "id": "traditional-workplace"
   },
   "outputs": [
    {
     "name": "stdout",
     "output_type": "stream",
     "text": [
      "Dataset directory <dataset_dir>:  s3://aps360project/chest_x_ray_classification/Xray_Dataset\n",
      "Model Output directory <output_dir>:  s3://aps360project/chest_x_ray_classification/trial_1\n"
     ]
    }
   ],
   "source": [
    "# Prefix for files in bucket\n",
    "prefix = 'chest_x_ray_classification'\n",
    "\n",
    "# Dataset directory\n",
    "dataset = 'Xray_Dataset'\n",
    "\n",
    "# Model output folder name\n",
    "output_dir_name = 'trial_1'\n",
    "\n",
    "# S3 Path bucket to get the data for training (Train, Test, Validation)\n",
    "dataset_dir = 's3://{}/{}/{}'.format(bucket_name, prefix, dataset)\n",
    "\n",
    "# output path for SageMaker to dump all model artifacts and graphs etc\n",
    "output_dir = 's3://{}/{}/{}'.format(bucket_name, prefix,output_dir_name)\n",
    "\n",
    "# sanity check for output path for model data\n",
    "print('Dataset directory <dataset_dir>: ', dataset_dir)\n",
    "print('Model Output directory <output_dir>: ', output_dir)"
   ]
  },
  {
   "cell_type": "code",
   "execution_count": 24,
   "id": "durable-motor",
   "metadata": {
    "id": "OB6GC1JzXIu3"
   },
   "outputs": [],
   "source": [
    "# initialize hyperparamters\n",
    "hyperparameters = {\n",
    "    'epochs': 4,\n",
    "    'batch-size': 256,\n",
    "    'learning-rate': 0.0001\n",
    "}\n",
    "\n",
    "# Training instance\n",
    "training_instance = 'ml.g4dn.2xlarge'\n",
    "\n",
    "# Create the current role to use sagemaker \n",
    "role = sagemaker.get_execution_role()"
   ]
  },
  {
   "cell_type": "code",
   "execution_count": 25,
   "id": "union-combine",
   "metadata": {
    "id": "YDoZNZxoXmJw"
   },
   "outputs": [
    {
     "name": "stderr",
     "output_type": "stream",
     "text": [
      "train_instance_count has been renamed in sagemaker>=2.\n",
      "See: https://sagemaker.readthedocs.io/en/stable/v2.html for details.\n",
      "train_instance_type has been renamed in sagemaker>=2.\n",
      "See: https://sagemaker.readthedocs.io/en/stable/v2.html for details.\n"
     ]
    }
   ],
   "source": [
    "from sagemaker.pytorch import PyTorch\n",
    "\n",
    "# Create a Pytorch estimator to run the training script on AWS Sagemaker\n",
    "estimator = PyTorch(\n",
    "                entry_point='xray1.py',\n",
    "                role=role,\n",
    "                framework_version='1.8.0',\n",
    "                py_version='py3',\n",
    "                output_path=output_dir,\n",
    "                train_instance_count=1,\n",
    "                script_mode=True,\n",
    "                train_instance_type=training_instance,\n",
    "                hyperparameters= hyperparameters,\n",
    "            )"
   ]
  },
  {
   "cell_type": "code",
   "execution_count": 26,
   "id": "short-crime",
   "metadata": {
    "id": "JyVEn5KsYhlC"
   },
   "outputs": [
    {
     "name": "stdout",
     "output_type": "stream",
     "text": [
      "2021-03-28 21:57:14 Starting - Starting the training job...\n",
      "2021-03-28 21:57:17 Starting - Launching requested ML instancesProfilerReport-1616968634: InProgress\n",
      "......\n",
      "2021-03-28 21:58:30 Starting - Preparing the instances for training......\n",
      "2021-03-28 21:59:30 Downloading - Downloading input data...\n",
      "2021-03-28 22:00:12 Training - Downloading the training image.................\u001b[34mbash: cannot set terminal process group (-1): Inappropriate ioctl for device\u001b[0m\n",
      "\u001b[34mbash: no job control in this shell\u001b[0m\n",
      "\u001b[34m2021-03-28 22:02:53,593 sagemaker-training-toolkit INFO     Imported framework sagemaker_pytorch_container.training\u001b[0m\n",
      "\u001b[34m2021-03-28 22:02:53,616 sagemaker_pytorch_container.training INFO     Block until all host DNS lookups succeed.\u001b[0m\n",
      "\u001b[34m2021-03-28 22:02:56,650 sagemaker_pytorch_container.training INFO     Invoking user training script.\u001b[0m\n",
      "\u001b[34m2021-03-28 22:02:56,984 sagemaker-training-toolkit INFO     Invoking user script\n",
      "\u001b[0m\n",
      "\u001b[34mTraining Env:\n",
      "\u001b[0m\n",
      "\u001b[34m{\n",
      "    \"additional_framework_parameters\": {},\n",
      "    \"channel_input_dirs\": {\n",
      "        \"training\": \"/opt/ml/input/data/training\"\n",
      "    },\n",
      "    \"current_host\": \"algo-1\",\n",
      "    \"framework_module\": \"sagemaker_pytorch_container.training:main\",\n",
      "    \"hosts\": [\n",
      "        \"algo-1\"\n",
      "    ],\n",
      "    \"hyperparameters\": {\n",
      "        \"batch-size\": 256,\n",
      "        \"learning-rate\": 0.0001,\n",
      "        \"epochs\": 4\n",
      "    },\n",
      "    \"input_config_dir\": \"/opt/ml/input/config\",\n",
      "    \"input_data_config\": {\n",
      "        \"training\": {\n",
      "            \"TrainingInputMode\": \"File\",\n",
      "            \"S3DistributionType\": \"FullyReplicated\",\n",
      "            \"RecordWrapperType\": \"None\"\n",
      "        }\n",
      "    },\n",
      "    \"input_dir\": \"/opt/ml/input\",\n",
      "    \"is_master\": true,\n",
      "    \"job_name\": \"pytorch-training-2021-03-28-21-57-14-471\",\n",
      "    \"log_level\": 20,\n",
      "    \"master_hostname\": \"algo-1\",\n",
      "    \"model_dir\": \"/opt/ml/model\",\n",
      "    \"module_dir\": \"s3://aps360project/pytorch-training-2021-03-28-21-57-14-471/source/sourcedir.tar.gz\",\n",
      "    \"module_name\": \"xray1\",\n",
      "    \"network_interface_name\": \"eth0\",\n",
      "    \"num_cpus\": 8,\n",
      "    \"num_gpus\": 1,\n",
      "    \"output_data_dir\": \"/opt/ml/output/data\",\n",
      "    \"output_dir\": \"/opt/ml/output\",\n",
      "    \"output_intermediate_dir\": \"/opt/ml/output/intermediate\",\n",
      "    \"resource_config\": {\n",
      "        \"current_host\": \"algo-1\",\n",
      "        \"hosts\": [\n",
      "            \"algo-1\"\n",
      "        ],\n",
      "        \"network_interface_name\": \"eth0\"\n",
      "    },\n",
      "    \"user_entry_point\": \"xray1.py\"\u001b[0m\n",
      "\u001b[34m}\n",
      "\u001b[0m\n",
      "\u001b[34mEnvironment variables:\n",
      "\u001b[0m\n",
      "\u001b[34mSM_HOSTS=[\"algo-1\"]\u001b[0m\n",
      "\u001b[34mSM_NETWORK_INTERFACE_NAME=eth0\u001b[0m\n",
      "\u001b[34mSM_HPS={\"batch-size\":256,\"epochs\":4,\"learning-rate\":0.0001}\u001b[0m\n",
      "\u001b[34mSM_USER_ENTRY_POINT=xray1.py\u001b[0m\n",
      "\u001b[34mSM_FRAMEWORK_PARAMS={}\u001b[0m\n",
      "\u001b[34mSM_RESOURCE_CONFIG={\"current_host\":\"algo-1\",\"hosts\":[\"algo-1\"],\"network_interface_name\":\"eth0\"}\u001b[0m\n",
      "\u001b[34mSM_INPUT_DATA_CONFIG={\"training\":{\"RecordWrapperType\":\"None\",\"S3DistributionType\":\"FullyReplicated\",\"TrainingInputMode\":\"File\"}}\u001b[0m\n",
      "\u001b[34mSM_OUTPUT_DATA_DIR=/opt/ml/output/data\u001b[0m\n",
      "\u001b[34mSM_CHANNELS=[\"training\"]\u001b[0m\n",
      "\u001b[34mSM_CURRENT_HOST=algo-1\u001b[0m\n",
      "\u001b[34mSM_MODULE_NAME=xray1\u001b[0m\n",
      "\u001b[34mSM_LOG_LEVEL=20\u001b[0m\n",
      "\u001b[34mSM_FRAMEWORK_MODULE=sagemaker_pytorch_container.training:main\u001b[0m\n",
      "\u001b[34mSM_INPUT_DIR=/opt/ml/input\u001b[0m\n",
      "\u001b[34mSM_INPUT_CONFIG_DIR=/opt/ml/input/config\u001b[0m\n",
      "\u001b[34mSM_OUTPUT_DIR=/opt/ml/output\u001b[0m\n",
      "\u001b[34mSM_NUM_CPUS=8\u001b[0m\n",
      "\u001b[34mSM_NUM_GPUS=1\u001b[0m\n",
      "\u001b[34mSM_MODEL_DIR=/opt/ml/model\u001b[0m\n",
      "\u001b[34mSM_MODULE_DIR=s3://aps360project/pytorch-training-2021-03-28-21-57-14-471/source/sourcedir.tar.gz\u001b[0m\n",
      "\u001b[34mSM_TRAINING_ENV={\"additional_framework_parameters\":{},\"channel_input_dirs\":{\"training\":\"/opt/ml/input/data/training\"},\"current_host\":\"algo-1\",\"framework_module\":\"sagemaker_pytorch_container.training:main\",\"hosts\":[\"algo-1\"],\"hyperparameters\":{\"batch-size\":256,\"epochs\":4,\"learning-rate\":0.0001},\"input_config_dir\":\"/opt/ml/input/config\",\"input_data_config\":{\"training\":{\"RecordWrapperType\":\"None\",\"S3DistributionType\":\"FullyReplicated\",\"TrainingInputMode\":\"File\"}},\"input_dir\":\"/opt/ml/input\",\"is_master\":true,\"job_name\":\"pytorch-training-2021-03-28-21-57-14-471\",\"log_level\":20,\"master_hostname\":\"algo-1\",\"model_dir\":\"/opt/ml/model\",\"module_dir\":\"s3://aps360project/pytorch-training-2021-03-28-21-57-14-471/source/sourcedir.tar.gz\",\"module_name\":\"xray1\",\"network_interface_name\":\"eth0\",\"num_cpus\":8,\"num_gpus\":1,\"output_data_dir\":\"/opt/ml/output/data\",\"output_dir\":\"/opt/ml/output\",\"output_intermediate_dir\":\"/opt/ml/output/intermediate\",\"resource_config\":{\"current_host\":\"algo-1\",\"hosts\":[\"algo-1\"],\"network_interface_name\":\"eth0\"},\"user_entry_point\":\"xray1.py\"}\u001b[0m\n",
      "\u001b[34mSM_USER_ARGS=[\"--batch-size\",\"256\",\"--epochs\",\"4\",\"--learning-rate\",\"0.0001\"]\u001b[0m\n",
      "\u001b[34mSM_OUTPUT_INTERMEDIATE_DIR=/opt/ml/output/intermediate\u001b[0m\n",
      "\u001b[34mSM_CHANNEL_TRAINING=/opt/ml/input/data/training\u001b[0m\n",
      "\u001b[34mSM_HP_BATCH-SIZE=256\u001b[0m\n",
      "\u001b[34mSM_HP_LEARNING-RATE=0.0001\u001b[0m\n",
      "\u001b[34mSM_HP_EPOCHS=4\u001b[0m\n",
      "\u001b[34mPYTHONPATH=/opt/ml/code:/opt/conda/bin:/opt/conda/lib/python36.zip:/opt/conda/lib/python3.6:/opt/conda/lib/python3.6/lib-dynload:/opt/conda/lib/python3.6/site-packages\n",
      "\u001b[0m\n",
      "\u001b[34mInvoking script with the following command:\n",
      "\u001b[0m\n",
      "\u001b[34m/opt/conda/bin/python3.6 xray1.py --batch-size 256 --epochs 4 --learning-rate 0.0001\n",
      "\n",
      "\u001b[0m\n",
      "\n",
      "2021-03-28 22:03:11 Training - Training image download completed. Training in progress.\u001b[34mCUDA is available!  Training on GPU ...\u001b[0m\n",
      "\u001b[34mTraining data: 3080\u001b[0m\n",
      "\u001b[34mTraining Augmented data: 4616\u001b[0m\n",
      "\u001b[34mValidation data: 1020\u001b[0m\n",
      "\u001b[34mTesting data: 1024\u001b[0m\n",
      "\u001b[34m[2021-03-28 22:03:04.708 algo-1:25 INFO utils.py:27] RULE_JOB_STOP_SIGNAL_FILENAME: None\u001b[0m\n",
      "\u001b[34m[2021-03-28 22:03:04.848 algo-1:25 INFO profiler_config_parser.py:102] User has disabled profiler.\u001b[0m\n",
      "\u001b[34m[2021-03-28 22:03:04.848 algo-1:25 INFO json_config.py:91] Creating hook from json_config at /opt/ml/input/config/debughookconfig.json.\u001b[0m\n",
      "\u001b[34m[2021-03-28 22:03:04.848 algo-1:25 INFO hook.py:199] tensorboard_dir has not been set for the hook. SMDebug will not be exporting tensorboard summaries.\u001b[0m\n",
      "\u001b[34m[2021-03-28 22:03:04.849 algo-1:25 INFO hook.py:253] Saving to /opt/ml/output/tensors\u001b[0m\n",
      "\u001b[34m[2021-03-28 22:03:04.849 algo-1:25 INFO state_store.py:77] The checkpoint config file /opt/ml/input/config/checkpointconfig.json does not exist.\u001b[0m\n",
      "\u001b[34m[2021-03-28 22:03:13.319 algo-1:25 INFO hook.py:584] name:conv1.weight count_params:9408\u001b[0m\n",
      "\u001b[34m[2021-03-28 22:03:13.320 algo-1:25 INFO hook.py:584] name:bn1.weight count_params:64\u001b[0m\n",
      "\u001b[34m[2021-03-28 22:03:13.320 algo-1:25 INFO hook.py:584] name:bn1.bias count_params:64\u001b[0m\n",
      "\u001b[34m[2021-03-28 22:03:13.320 algo-1:25 INFO hook.py:584] name:layer1.0.conv1.weight count_params:36864\u001b[0m\n",
      "\u001b[34m[2021-03-28 22:03:13.320 algo-1:25 INFO hook.py:584] name:layer1.0.bn1.weight count_params:64\u001b[0m\n",
      "\u001b[34m[2021-03-28 22:03:13.320 algo-1:25 INFO hook.py:584] name:layer1.0.bn1.bias count_params:64\u001b[0m\n",
      "\u001b[34m[2021-03-28 22:03:13.320 algo-1:25 INFO hook.py:584] name:layer1.0.conv2.weight count_params:36864\u001b[0m\n",
      "\u001b[34m[2021-03-28 22:03:13.320 algo-1:25 INFO hook.py:584] name:layer1.0.bn2.weight count_params:64\u001b[0m\n",
      "\u001b[34m[2021-03-28 22:03:13.320 algo-1:25 INFO hook.py:584] name:layer1.0.bn2.bias count_params:64\u001b[0m\n",
      "\u001b[34m[2021-03-28 22:03:13.320 algo-1:25 INFO hook.py:584] name:layer1.1.conv1.weight count_params:36864\u001b[0m\n",
      "\u001b[34m[2021-03-28 22:03:13.320 algo-1:25 INFO hook.py:584] name:layer1.1.bn1.weight count_params:64\u001b[0m\n",
      "\u001b[34m[2021-03-28 22:03:13.320 algo-1:25 INFO hook.py:584] name:layer1.1.bn1.bias count_params:64\u001b[0m\n",
      "\u001b[34m[2021-03-28 22:03:13.320 algo-1:25 INFO hook.py:584] name:layer1.1.conv2.weight count_params:36864\u001b[0m\n",
      "\u001b[34m[2021-03-28 22:03:13.320 algo-1:25 INFO hook.py:584] name:layer1.1.bn2.weight count_params:64\u001b[0m\n",
      "\u001b[34m[2021-03-28 22:03:13.320 algo-1:25 INFO hook.py:584] name:layer1.1.bn2.bias count_params:64\u001b[0m\n",
      "\u001b[34m[2021-03-28 22:03:13.320 algo-1:25 INFO hook.py:584] name:layer2.0.conv1.weight count_params:73728\u001b[0m\n",
      "\u001b[34m[2021-03-28 22:03:13.320 algo-1:25 INFO hook.py:584] name:layer2.0.bn1.weight count_params:128\u001b[0m\n",
      "\u001b[34m[2021-03-28 22:03:13.320 algo-1:25 INFO hook.py:584] name:layer2.0.bn1.bias count_params:128\u001b[0m\n",
      "\u001b[34m[2021-03-28 22:03:13.320 algo-1:25 INFO hook.py:584] name:layer2.0.conv2.weight count_params:147456\u001b[0m\n",
      "\u001b[34m[2021-03-28 22:03:13.320 algo-1:25 INFO hook.py:584] name:layer2.0.bn2.weight count_params:128\u001b[0m\n",
      "\u001b[34m[2021-03-28 22:03:13.320 algo-1:25 INFO hook.py:584] name:layer2.0.bn2.bias count_params:128\u001b[0m\n",
      "\u001b[34m[2021-03-28 22:03:13.320 algo-1:25 INFO hook.py:584] name:layer2.0.downsample.0.weight count_params:8192\u001b[0m\n",
      "\u001b[34m[2021-03-28 22:03:13.321 algo-1:25 INFO hook.py:584] name:layer2.0.downsample.1.weight count_params:128\u001b[0m\n",
      "\u001b[34m[2021-03-28 22:03:13.321 algo-1:25 INFO hook.py:584] name:layer2.0.downsample.1.bias count_params:128\u001b[0m\n",
      "\u001b[34m[2021-03-28 22:03:13.321 algo-1:25 INFO hook.py:584] name:layer2.1.conv1.weight count_params:147456\u001b[0m\n",
      "\u001b[34m[2021-03-28 22:03:13.321 algo-1:25 INFO hook.py:584] name:layer2.1.bn1.weight count_params:128\u001b[0m\n",
      "\u001b[34m[2021-03-28 22:03:13.321 algo-1:25 INFO hook.py:584] name:layer2.1.bn1.bias count_params:128\u001b[0m\n",
      "\u001b[34m[2021-03-28 22:03:13.321 algo-1:25 INFO hook.py:584] name:layer2.1.conv2.weight count_params:147456\u001b[0m\n",
      "\u001b[34m[2021-03-28 22:03:13.321 algo-1:25 INFO hook.py:584] name:layer2.1.bn2.weight count_params:128\u001b[0m\n",
      "\u001b[34m[2021-03-28 22:03:13.321 algo-1:25 INFO hook.py:584] name:layer2.1.bn2.bias count_params:128\u001b[0m\n",
      "\u001b[34m[2021-03-28 22:03:13.321 algo-1:25 INFO hook.py:584] name:layer3.0.conv1.weight count_params:294912\u001b[0m\n",
      "\u001b[34m[2021-03-28 22:03:13.321 algo-1:25 INFO hook.py:584] name:layer3.0.bn1.weight count_params:256\u001b[0m\n",
      "\u001b[34m[2021-03-28 22:03:13.321 algo-1:25 INFO hook.py:584] name:layer3.0.bn1.bias count_params:256\u001b[0m\n",
      "\u001b[34m[2021-03-28 22:03:13.321 algo-1:25 INFO hook.py:584] name:layer3.0.conv2.weight count_params:589824\u001b[0m\n",
      "\u001b[34m[2021-03-28 22:03:13.321 algo-1:25 INFO hook.py:584] name:layer3.0.bn2.weight count_params:256\u001b[0m\n",
      "\u001b[34m[2021-03-28 22:03:13.321 algo-1:25 INFO hook.py:584] name:layer3.0.bn2.bias count_params:256\u001b[0m\n",
      "\u001b[34m[2021-03-28 22:03:13.321 algo-1:25 INFO hook.py:584] name:layer3.0.downsample.0.weight count_params:32768\u001b[0m\n",
      "\u001b[34m[2021-03-28 22:03:13.321 algo-1:25 INFO hook.py:584] name:layer3.0.downsample.1.weight count_params:256\u001b[0m\n",
      "\u001b[34m[2021-03-28 22:03:13.321 algo-1:25 INFO hook.py:584] name:layer3.0.downsample.1.bias count_params:256\u001b[0m\n",
      "\u001b[34m[2021-03-28 22:03:13.321 algo-1:25 INFO hook.py:584] name:layer3.1.conv1.weight count_params:589824\u001b[0m\n",
      "\u001b[34m[2021-03-28 22:03:13.321 algo-1:25 INFO hook.py:584] name:layer3.1.bn1.weight count_params:256\u001b[0m\n",
      "\u001b[34m[2021-03-28 22:03:13.321 algo-1:25 INFO hook.py:584] name:layer3.1.bn1.bias count_params:256\u001b[0m\n",
      "\u001b[34m[2021-03-28 22:03:13.321 algo-1:25 INFO hook.py:584] name:layer3.1.conv2.weight count_params:589824\u001b[0m\n",
      "\u001b[34m[2021-03-28 22:03:13.321 algo-1:25 INFO hook.py:584] name:layer3.1.bn2.weight count_params:256\u001b[0m\n",
      "\u001b[34m[2021-03-28 22:03:13.322 algo-1:25 INFO hook.py:584] name:layer3.1.bn2.bias count_params:256\u001b[0m\n",
      "\u001b[34m[2021-03-28 22:03:13.322 algo-1:25 INFO hook.py:584] name:layer4.0.conv1.weight count_params:1179648\u001b[0m\n",
      "\u001b[34m[2021-03-28 22:03:13.322 algo-1:25 INFO hook.py:584] name:layer4.0.bn1.weight count_params:512\u001b[0m\n",
      "\u001b[34m[2021-03-28 22:03:13.322 algo-1:25 INFO hook.py:584] name:layer4.0.bn1.bias count_params:512\u001b[0m\n",
      "\u001b[34m[2021-03-28 22:03:13.322 algo-1:25 INFO hook.py:584] name:layer4.0.conv2.weight count_params:2359296\u001b[0m\n",
      "\u001b[34m[2021-03-28 22:03:13.322 algo-1:25 INFO hook.py:584] name:layer4.0.bn2.weight count_params:512\u001b[0m\n",
      "\u001b[34m[2021-03-28 22:03:13.322 algo-1:25 INFO hook.py:584] name:layer4.0.bn2.bias count_params:512\u001b[0m\n",
      "\u001b[34m[2021-03-28 22:03:13.322 algo-1:25 INFO hook.py:584] name:layer4.0.downsample.0.weight count_params:131072\u001b[0m\n",
      "\u001b[34m[2021-03-28 22:03:13.322 algo-1:25 INFO hook.py:584] name:layer4.0.downsample.1.weight count_params:512\u001b[0m\n",
      "\u001b[34m[2021-03-28 22:03:13.322 algo-1:25 INFO hook.py:584] name:layer4.0.downsample.1.bias count_params:512\u001b[0m\n",
      "\u001b[34m[2021-03-28 22:03:13.322 algo-1:25 INFO hook.py:584] name:layer4.1.conv1.weight count_params:2359296\u001b[0m\n",
      "\u001b[34m[2021-03-28 22:03:13.322 algo-1:25 INFO hook.py:584] name:layer4.1.bn1.weight count_params:512\u001b[0m\n",
      "\u001b[34m[2021-03-28 22:03:13.322 algo-1:25 INFO hook.py:584] name:layer4.1.bn1.bias count_params:512\u001b[0m\n",
      "\u001b[34m[2021-03-28 22:03:13.322 algo-1:25 INFO hook.py:584] name:layer4.1.conv2.weight count_params:2359296\u001b[0m\n",
      "\u001b[34m[2021-03-28 22:03:13.322 algo-1:25 INFO hook.py:584] name:layer4.1.bn2.weight count_params:512\u001b[0m\n",
      "\u001b[34m[2021-03-28 22:03:13.322 algo-1:25 INFO hook.py:584] name:layer4.1.bn2.bias count_params:512\u001b[0m\n",
      "\u001b[34m[2021-03-28 22:03:13.322 algo-1:25 INFO hook.py:584] name:fc.0.weight count_params:131072\u001b[0m\n",
      "\u001b[34m[2021-03-28 22:03:13.322 algo-1:25 INFO hook.py:584] name:fc.0.bias count_params:256\u001b[0m\n",
      "\u001b[34m[2021-03-28 22:03:13.322 algo-1:25 INFO hook.py:584] name:fc.1.weight count_params:256\u001b[0m\n",
      "\u001b[34m[2021-03-28 22:03:13.322 algo-1:25 INFO hook.py:584] name:fc.1.bias count_params:256\u001b[0m\n",
      "\u001b[34m[2021-03-28 22:03:13.322 algo-1:25 INFO hook.py:584] name:fc.3.weight count_params:32768\u001b[0m\n",
      "\u001b[34m[2021-03-28 22:03:13.322 algo-1:25 INFO hook.py:584] name:fc.3.bias count_params:128\u001b[0m\n",
      "\u001b[34m[2021-03-28 22:03:13.322 algo-1:25 INFO hook.py:584] name:fc.4.weight count_params:512\u001b[0m\n",
      "\u001b[34m[2021-03-28 22:03:13.323 algo-1:25 INFO hook.py:584] name:fc.4.bias count_params:4\u001b[0m\n",
      "\u001b[34m[2021-03-28 22:03:13.323 algo-1:25 INFO hook.py:586] Total Trainable Params: 11341764\u001b[0m\n",
      "\u001b[34m[2021-03-28 22:03:13.323 algo-1:25 INFO hook.py:413] Monitoring the collections: losses\u001b[0m\n",
      "\u001b[34m[2021-03-28 22:03:13.324 algo-1:25 INFO hook.py:476] Hook is writing from the hook with pid: 25\n",
      "\u001b[0m\n",
      "\u001b[34mEpoch 0: Train acc: 0.6681109185441941 | Validation acc: 0.6558823529411765\u001b[0m\n",
      "\u001b[34mEpoch 1: Train acc: 0.8165077989601387 | Validation acc: 0.7588235294117647\u001b[0m\n",
      "\u001b[34mEpoch 2: Train acc: 0.8440207972270364 | Validation acc: 0.7774509803921569\u001b[0m\n",
      "\n",
      "2021-03-29 01:39:26 Uploading - Uploading generated training model\u001b[34mEpoch 3: Train acc: 0.8561525129982669 | Validation acc: 0.7843137254901961\u001b[0m\n",
      "\u001b[34mFinal Training Accuracy: 0.9911178509532063\u001b[0m\n",
      "\u001b[34mFinal Validation Accuracy: 0.8323529411764706\u001b[0m\n",
      "\u001b[34mDownloading: \"https://download.pytorch.org/models/resnet18-5c106cde.pth\" to /root/.cache/torch/hub/checkpoints/resnet18-5c106cde.pth\u001b[0m\n",
      "\u001b[34m#015  0%|          | 0.00/44.7M [00:00<?, ?B/s]#015  3%|▎         | 1.34M/44.7M [00:00<00:03, 14.0MB/s]#015 20%|██        | 8.97M/44.7M [00:00<00:02, 18.6MB/s]#015 37%|███▋      | 16.5M/44.7M [00:00<00:01, 24.1MB/s]#015 54%|█████▍    | 24.2M/44.7M [00:00<00:00, 30.6MB/s]#015 69%|██████▉   | 30.8M/44.7M [00:00<00:00, 36.7MB/s]#015 86%|████████▌ | 38.2M/44.7M [00:00<00:00, 43.6MB/s]#015 99%|█████████▉| 44.4M/44.7M [00:00<00:00, 46.2MB/s]#015100%|██████████| 44.7M/44.7M [00:00<00:00, 64.3MB/s]\n",
      "\u001b[0m\n",
      "\u001b[34m2021-03-29 01:39:21,216 sagemaker-training-toolkit INFO     Reporting training SUCCESS\u001b[0m\n",
      "\n",
      "2021-03-29 01:39:50 Completed - Training job completed\n",
      "Training seconds: 13230\n",
      "Billable seconds: 13230\n"
     ]
    }
   ],
   "source": [
    "estimator.fit({'training': dataset_dir})"
   ]
  },
  {
   "cell_type": "code",
   "execution_count": null,
   "id": "demographic-contrary",
   "metadata": {},
   "outputs": [],
   "source": []
  }
 ],
 "metadata": {
  "colab": {
   "name": "trial_1_xrays.ipynb",
   "provenance": []
  },
  "kernelspec": {
   "display_name": "conda_pytorch_latest_p36",
   "language": "python",
   "name": "conda_pytorch_latest_p36"
  },
  "language_info": {
   "codemirror_mode": {
    "name": "ipython",
    "version": 3
   },
   "file_extension": ".py",
   "mimetype": "text/x-python",
   "name": "python",
   "nbconvert_exporter": "python",
   "pygments_lexer": "ipython3",
   "version": "3.6.13"
  }
 },
 "nbformat": 4,
 "nbformat_minor": 5
}
