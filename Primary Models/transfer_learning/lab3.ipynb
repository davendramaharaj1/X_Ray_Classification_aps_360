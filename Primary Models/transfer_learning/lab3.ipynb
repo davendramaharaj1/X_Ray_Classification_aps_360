{
  "nbformat": 4,
  "nbformat_minor": 0,
  "metadata": {
    "colab": {
      "name": "Lab_3_Gesture_Recognition.ipynb",
      "provenance": [],
      "collapsed_sections": [],
      "machine_shape": "hm"
    },
    "kernelspec": {
      "display_name": "Python 3",
      "language": "python",
      "name": "python3"
    },
    "language_info": {
      "codemirror_mode": {
        "name": "ipython",
        "version": 3
      },
      "file_extension": ".py",
      "mimetype": "text/x-python",
      "name": "python",
      "nbconvert_exporter": "python",
      "pygments_lexer": "ipython3",
      "version": "3.6.3"
    },
    "accelerator": "GPU"
  },
  "cells": [
    {
      "cell_type": "markdown",
      "metadata": {
        "id": "X6WDvajSqIDs"
      },
      "source": [
        "# Lab 3: Gesture Recognition using Convolutional Neural Networks\n",
        "\n",
        "**Deadlines**: Feb 8, 5:00PM\n",
        "\n",
        "**Late Penalty**: There is a penalty-free grace period of one hour past the deadline. Any work that is submitted between 1 hour and 24 hours past the deadline will receive a 20% grade deduction. No other late work is accepted. Quercus submission time will be used, not your local computer time. You can submit your labs as many times as you want before the deadline, so please submit often and early.\n",
        "\n",
        "**Grading TAs**: \n",
        "Geoff Donoghue  \n",
        "\n",
        "This lab is based on an assignment developed by Prof. Lisa Zhang.\n",
        "\n",
        "This lab will be completed in two parts. In Part A you will you will gain experience gathering your own data set (specifically images of hand gestures), and understand the challenges involved in the data cleaning process. In Part B you will train a convolutional neural network to make classifications on different hand gestures. By the end of the lab, you should be able to:\n",
        "\n",
        "1. Generate and preprocess your own data\n",
        "2. Load and split data for training, validation and testing\n",
        "3. Train a Convolutional Neural Network\n",
        "4. Apply transfer learning to improve your model\n",
        "\n",
        "Note that for this lab we will not be providing you with any starter code. You should be able to take the code used in previous labs, tutorials and lectures and modify it accordingly to complete the tasks outlined below.\n",
        "\n",
        "### What to submit\n",
        "\n",
        "**Submission for Part A:**  \n",
        "Submit a zip file containing your images. Three images each of American Sign Language gestures for letters A - I (total of 27 images). You will be required to clean the images before submitting them. Details are provided under Part A of the handout.\n",
        "\n",
        "Individual image file names should follow the convention of student-number_Alphabet_file-number.jpg\n",
        "(e.g. 100343434_A_1.jpg).\n",
        "\n",
        "\n",
        "**Submission for Part B:**  \n",
        "Submit a PDF file containing all your code, outputs, and write-up\n",
        "from parts 1-5. You can produce a PDF of your Google Colab file by\n",
        "going to **File > Print** and then save as PDF. The Colab instructions\n",
        "has more information. Make sure to review the PDF submission to ensure that your answers are easy to read. Make sure that your text is not cut off at the margins. \n",
        "\n",
        "**Do not submit any other files produced by your code.**\n",
        "\n",
        "Include a link to your colab file in your submission.\n",
        "\n",
        "Please use Google Colab to complete this assignment. If you want to use Jupyter Notebook, please complete the assignment and upload your Jupyter Notebook file to Google Colab for submission. "
      ]
    },
    {
      "cell_type": "markdown",
      "metadata": {
        "id": "LfiFE_WOqIDu"
      },
      "source": [
        "## Colab Link\n",
        "\n",
        "Include a link to your colab file here\n",
        "\n",
        "Colab Link: https://colab.research.google.com/drive/1nA0F7VYFxMIpm07UY6Xx2CD7qwOynFLP?usp=sharing"
      ]
    },
    {
      "cell_type": "markdown",
      "metadata": {
        "id": "kvTXpH_kqIDy"
      },
      "source": [
        "## Part A. Data Collection [10 pt]\n",
        "\n",
        "So far, we have worked with data sets that have been collected, cleaned, and curated by machine learning\n",
        "researchers and practitioners. Datasets like MNIST and CIFAR are often used as toy examples, both by\n",
        "students and by researchers testing new machine learning models.\n",
        "\n",
        "In the real world, getting a clean data set is never that easy. More than half the work in applying machine\n",
        "learning is finding, gathering, cleaning, and formatting your data set.\n",
        "\n",
        "The purpose of this lab is to help you gain experience gathering your own data set, and understand the\n",
        "challenges involved in the data cleaning process.\n",
        "\n",
        "### American Sign Language\n",
        "\n",
        "American Sign Language (ASL) is a complete, complex language that employs signs made by moving the\n",
        "hands combined with facial expressions and postures of the body. It is the primary language of many\n",
        "North Americans who are deaf and is one of several communication options used by people who are deaf or\n",
        "hard-of-hearing.\n",
        "\n",
        "The hand gestures representing English alphabet are shown below. This lab focuses on classifying a subset\n",
        "of these hand gesture images using convolutional neural networks. Specifically, given an image of a hand\n",
        "showing one of the letters A-I, we want to detect which letter is being represented.\n",
        "\n",
        "![alt text](https://www.disabled-world.com/pics/1/asl-alphabet.jpg)\n",
        "\n",
        "\n",
        "### Generating Data\n",
        "We will produce the images required for this lab by ourselves. Each student will collect, clean and submit\n",
        "three images each of Americal Sign Language gestures for letters A - I (total of 27 images)\n",
        "Steps involved in data collection\n",
        "\n",
        "1. Familiarize yourself with American Sign Language gestures for letters from A - I (9 letters).\n",
        "2. Take three pictures at slightly different orientation for each letter gesture using your\n",
        "mobile phone.\n",
        " - Ensure adequate lighting while you are capturing the images.\n",
        " - Use a white wall as your background.\n",
        " - Use your right hand to create gestures (for consistency).\n",
        " - Keep your right hand fairly apart from your body and any other obstructions.\n",
        " - Avoid having shadows on parts of your hand.\n",
        "3. Transfer the images to your laptop for cleaning.\n",
        "\n",
        "### Cleaning Data\n",
        "To simplify the machine learning the task, we will standardize the training images. We will make sure that\n",
        "all our images are of the same size (224 x 224 pixels RGB), and have the hand in the center of the cropped\n",
        "regions.\n",
        "\n",
        "You may use the following applications to crop and resize your images:\n",
        "\n",
        "**Mac**\n",
        "- Use Preview:\n",
        "– Holding down CMD + Shift will keep a square aspect ratio while selecting the hand area.\n",
        "– Resize to 224x224 pixels.\n",
        "\n",
        "**Windows 10**\n",
        "- Use Photos app to edit and crop the image and keep the aspect ratio a square.\n",
        "- Use Paint to resize the image to the final image size of 224x224 pixels.\n",
        "\n",
        "**Linux**\n",
        "- You can use GIMP, imagemagick, or other tools of your choosing.\n",
        "You may also use online tools such as http://picresize.com\n",
        "All the above steps are illustrative only. You need not follow these steps but following these will ensure that\n",
        "you produce a good quality dataset. You will be judged based on the quality of the images alone.\n",
        "Please do not edit your photos in any other way. You should not need to change the aspect ratio of your\n",
        "image. You also should not digitally remove the background or shadows—instead, take photos with a white\n",
        "background and minimal shadows.\n",
        "\n",
        "### Accepted Images\n",
        "Images will be accepted and graded based on the criteria below\n",
        "1. The final image should be size 224x224 pixels (RGB).\n",
        "2. The file format should be a .jpg file.\n",
        "3. The hand should be approximately centered on the frame.\n",
        "4. The hand should not be obscured or cut off.\n",
        "5. The photos follows the ASL gestures posted earlier.\n",
        "6. The photos were not edited in any other way (e.g. no electronic removal of shadows or background).\n",
        "\n",
        "### Submission\n",
        "Submit a zip file containing your images. There should be a total of 27 images (3 for each category)\n",
        "1. Individual image file names should follow the convention of student-number_Alphabet_file-number.jpg\n",
        "(e.g. 100343434_A_1.jpg)\n",
        "2. Zip all the images together and name it with the following convention: last-name_student-number.zip\n",
        "(e.g. last-name_100343434.zip).\n",
        "3. Submit the zipped folder.\n",
        "We will be anonymizing and combining the images that everyone submits. We will announce when the\n",
        "combined data set will be available for download.\n",
        "\n",
        "![alt text](https://github.com/UTNeural/APS360/blob/master/Gesture%20Images.PNG?raw=true)"
      ]
    },
    {
      "cell_type": "markdown",
      "metadata": {
        "id": "bJxMgWGNqID2"
      },
      "source": [
        "## Part B. Building a CNN [50 pt]\n",
        "\n",
        "For this lab, we are not going to give you any starter code. You will be writing a convolutional neural network\n",
        "from scratch. You are welcome to use any code from previous labs, lectures and tutorials. You should also\n",
        "write your own code.\n",
        "\n",
        "You may use the PyTorch documentation freely. You might also find online tutorials helpful. However, all\n",
        "code that you submit must be your own.\n",
        "\n",
        "Make sure that your code is vectorized, and does not contain obvious inefficiencies (for example, unecessary\n",
        "for loops, or unnecessary calls to unsqueeze()). Ensure enough comments are included in the code so that\n",
        "your TA can understand what you are doing. It is your responsibility to show that you understand what you\n",
        "write.\n",
        "\n",
        "**This is much more challenging and time-consuming than the previous labs.** Make sure that you\n",
        "give yourself plenty of time by starting early."
      ]
    },
    {
      "cell_type": "markdown",
      "metadata": {
        "id": "MiDuQaAh56sT"
      },
      "source": [
        "\n",
        "\n",
        "\n",
        "\n",
        "\n",
        "\n",
        "\n",
        "\n",
        "\n",
        "\n",
        "\n",
        "\n",
        "\n",
        "\n",
        "\n",
        "\n",
        "\n",
        "\n",
        "\n",
        "\n",
        "\n",
        "\n",
        "\n",
        "\n",
        "\n",
        "\n",
        "\n",
        "\n",
        "\n",
        "\n",
        "\n",
        "\n",
        "\n",
        "\n",
        "\n",
        "\n",
        "\n",
        "\n",
        "\n",
        "\n",
        "\n",
        "\n",
        "### 1. Data Loading and Splitting [5 pt]\n",
        "\n",
        "Download the anonymized data provided on Quercus. To allow you to get a heads start on this project we will provide you with sample data from previous years. Split the data into training, validation, and test sets.\n",
        "\n",
        "Note: Data splitting is not as trivial in this lab. We want our test set to closely resemble the setting in which\n",
        "our model will be used. In particular, our test set should contain hands that are never seen in training!\n",
        "\n",
        "Explain how you split the data, either by describing what you did, or by showing the code that you used.\n",
        "Justify your choice of splitting strategy. How many training, validation, and test images do you have?\n",
        "\n",
        "For loading the data, you can use plt.imread as in Lab 1, or any other method that you choose. You may find\n",
        "torchvision.datasets.ImageFolder helpful. (see https://pytorch.org/docs/stable/torchvision/datasets.html?highlight=image%20folder#torchvision.datasets.ImageFolder\n",
        ") "
      ]
    },
    {
      "cell_type": "code",
      "metadata": {
        "id": "3FHOjQJCm-qT"
      },
      "source": [
        "# First we must import all the libraries that we require\r\n",
        "import numpy as np\r\n",
        "import time\r\n",
        "import torch\r\n",
        "import torch.nn as nn\r\n",
        "import torch.nn.functional as F\r\n",
        "import torch.optim as optim\r\n",
        "import torchvision\r\n",
        "from torch.utils.data.sampler import SubsetRandomSampler\r\n",
        "import torchvision.transforms as transforms\r\n",
        "import matplotlib.pyplot as plt\r\n",
        "import os"
      ],
      "execution_count": 2,
      "outputs": []
    },
    {
      "cell_type": "code",
      "metadata": {
        "colab": {
          "base_uri": "https://localhost:8080/"
        },
        "collapsed": true,
        "id": "WBrH5kBqRLa6",
        "outputId": "97e2cf3d-20d0-42b4-cf80-11057bfcdd86"
      },
      "source": [
        "from google.colab import drive\r\n",
        "drive.mount('/content/gdrive')\r\n",
        "\r\n",
        "main_dir = '/content/gdrive/My Drive/Colab Notebooks/lab3'"
      ],
      "execution_count": 3,
      "outputs": [
        {
          "output_type": "stream",
          "text": [
            "Drive already mounted at /content/gdrive; to attempt to forcibly remount, call drive.mount(\"/content/gdrive\", force_remount=True).\n"
          ],
          "name": "stdout"
        }
      ]
    },
    {
      "cell_type": "code",
      "metadata": {
        "id": "_3ELzBLYrXoP"
      },
      "source": [
        "def load_data(batch_size=64, num_workers=1, small=False):\r\n",
        "  # Compose allows us to have multiple transformations to occur, where we first ensure our images are 224x224, and then\r\n",
        "  # convert the images to a tensor in the form (torch.Tensor([3, 224, 224])\r\n",
        "  transform_it = transforms.Compose([transforms.CenterCrop(224), transforms.ToTensor()])\r\n",
        "\r\n",
        "  # Check to see if we want to load the small dataset for over fitting\r\n",
        "  if small:\r\n",
        "    small_path = main_dir + '/Lab3a'\r\n",
        "    small_data = torchvision.datasets.ImageFolder(small_path, transform=transform_it)\r\n",
        "    return small_data\r\n",
        "\r\n",
        "  # Save the paths of each of the different types of data that are located in my drive \r\n",
        "  train_path = main_dir + '/Gesture_Dataset_Sorted/train_data'\r\n",
        "  val_path = main_dir + '/Gesture_Dataset_Sorted/val_data'\r\n",
        "  test_path = main_dir + '/Gesture_Dataset_Sorted/test_data'\r\n",
        "\r\n",
        "  # Load all of the data from my google drive\r\n",
        "  train_data = torchvision.datasets.ImageFolder(train_path, transform=transform_it)\r\n",
        "  val_data = torchvision.datasets.ImageFolder(val_path, transform=transform_it)\r\n",
        "  test_data = torchvision.datasets.ImageFolder(test_path, transform=transform_it)\r\n",
        "\r\n",
        "  return train_data, val_data, test_data\r\n"
      ],
      "execution_count": 4,
      "outputs": []
    },
    {
      "cell_type": "code",
      "metadata": {
        "id": "nZ_saxXyHTwA",
        "colab": {
          "base_uri": "https://localhost:8080/"
        },
        "outputId": "1c94f98a-0358-4826-ac2d-576d4091ec33"
      },
      "source": [
        "train_data, val_data, test_data = load_data()\r\n",
        "small_data = load_data(small=True)\r\n",
        "# TRAINING EXAMPLES\r\n",
        "print(\"Training Examples:\", len(train_data))\r\n",
        "\r\n",
        "#VALIDATION EXMAPLES \r\n",
        "print(\"Validation Examples:\", len(val_data))\r\n",
        "\r\n",
        "#TEST EXAMPLES \r\n",
        "print(\"Test Examples:\", len(test_data))\r\n",
        "\r\n",
        "# SMALL EXAMPLES\r\n",
        "print(\"Small Examples:\", len(small_data))"
      ],
      "execution_count": 5,
      "outputs": [
        {
          "output_type": "stream",
          "text": [
            "Training Examples: 1686\n",
            "Validation Examples: 372\n",
            "Test Examples: 373\n",
            "Small Examples: 27\n"
          ],
          "name": "stdout"
        }
      ]
    },
    {
      "cell_type": "code",
      "metadata": {
        "id": "9MGNM5l9Cid0"
      },
      "source": [
        "# For the model checkpoints \r\n",
        "def get_model_name(name, batch_size, learning_rate, epoch):\r\n",
        "    \"\"\" Generate a name for the model consisting of all the hyperparameter values\r\n",
        "\r\n",
        "    Args:\r\n",
        "        config: Configuration object containing the hyperparameters\r\n",
        "    Returns:\r\n",
        "        path: A string with the hyperparameter name and value concatenated\r\n",
        "    \"\"\"\r\n",
        "    path = \"model_{0}_bs{1}_lr{2}_epoch{3}\".format(name,\r\n",
        "                                                   batch_size,\r\n",
        "                                                   learning_rate,\r\n",
        "                                                   epoch)\r\n",
        "    return path"
      ],
      "execution_count": 6,
      "outputs": []
    },
    {
      "cell_type": "markdown",
      "metadata": {
        "id": "Ek980ebCJrZ7"
      },
      "source": [
        "**EXPLAINATION FOR PART 1**\r\n",
        "\r\n",
        "The load_data function essentially loads all of my sample data from the gesture dataset, and returns them as a usable tensor. \r\n",
        "\r\n",
        "The way I have split up my data, was that ~70% of the total data is used for training, which is approximatly 1686 images out of 2431. Then, the rest of the 30% was split evenly into validation and testing data. Where 372 images were used for validation, and 373 images were used for testing. The dataset was slightly uneven, because from the given gesture dataset the letter I had 249 images instead of 272 from A-H. \r\n",
        "\r\n",
        "The reason for the split being 70% training, 15% validation and 15% test data was that in order to ensure that a neural net is being trained with an adequetely, a significant portion of the data must be used for training purposes. Then, we require a similar sized datasets for validation and testing because a smaller validation dataset prevents the net from performing well. Then, in order to ensure we are testing the net properly to simulate real life data, we must also have data that is a proper generalization of the real time data. \r\n"
      ]
    },
    {
      "cell_type": "markdown",
      "metadata": {
        "id": "5VWX4DGY5gQE"
      },
      "source": [
        "### 2. Model Building and Sanity Checking [15 pt]\n",
        "\n",
        "### Part (a) Convolutional Network - 5 pt\n",
        "\n",
        "Build a convolutional neural network model that takes the (224x224 RGB) image as input, and predicts the gesture\n",
        "letter. Your model should be a subclass of nn.Module. Explain your choice of neural network architecture: how\n",
        "many layers did you choose? What types of layers did you use? Were they fully-connected or convolutional?\n",
        "What about other decisions like pooling layers, activation functions, number of channels / hidden units?"
      ]
    },
    {
      "cell_type": "code",
      "metadata": {
        "collapsed": true,
        "id": "2dtx1z5951fS"
      },
      "source": [
        " #Convolutional Neural Network Architecture\r\n",
        "class GestureClassifier(nn.Module):\r\n",
        "      def __init__(self):\r\n",
        "          self.name = \"GestureClassifier\"\r\n",
        "          super(GestureClassifier, self).__init__()\r\n",
        "          self.conv1 = nn.Conv2d(3, 5, 5) #in_channels, out_chanels, kernel_size\r\n",
        "          self.pool = nn.MaxPool2d(2, 2) #kernel_size, stride \r\n",
        "          self.conv2 = nn.Conv2d(5, 10, 5) #in_channels, out_chanels, kernel_size\r\n",
        "          self.fc1 = nn.Linear(10*53*53, 30)\r\n",
        "          self.fc2 = nn.Linear(30, 9)\r\n",
        "\r\n",
        "      def forward(self, x):\r\n",
        "          x = self.pool(F.relu(self.conv1(x)))\r\n",
        "          x = self.pool(F.relu(self.conv2(x)))\r\n",
        "          x = x.view(-1, 10*53*53)\r\n",
        "          x = F.relu(self.fc1(x))\r\n",
        "          x = self.fc2(x)\r\n",
        "          return x"
      ],
      "execution_count": 26,
      "outputs": []
    },
    {
      "cell_type": "markdown",
      "metadata": {
        "id": "uDQkBksL01U7"
      },
      "source": [
        "**EXPLAINATION FOR PART 2a**\r\n",
        "\r\n",
        "I chose to build a simple CNN architecture, where there are two convolution layers, two pooling layers, two fully connected layers, and one output layer. \r\n",
        "\r\n",
        "The follwing will explain the steps in how each layer of my CNN works.\r\n",
        "\r\n",
        "*   Conv2d layer 1 - it takes in 1 channel, and outputs 5 channels using a 5x5 size kernel \r\n",
        "\r\n",
        "    **Our image here becomes (5x220x220)**\r\n",
        "\r\n",
        "*   max pooling layer 1 - it filters out the image by only taking the max value in every 2x2 within the image, reducing image size. \r\n",
        "\r\n",
        "    **Our image here becomes (5x110x10)**\r\n",
        "\r\n",
        "*   Conv2d layer 2 - which takes in 5 channels, since output of first convolution layer was 5, and outputs 10 channels, with the same kernel size of 5\r\n",
        "    \r\n",
        "    **Our image here becomes (10x106x106)**\r\n",
        "\r\n",
        "*   max pooling layer 2 - it once again filters out the images, by taking max value. \r\n",
        "\r\n",
        "    **Our image here becomes (10x53x53)**\r\n",
        "\r\n",
        "\r\n",
        "*   Fully Connected Layer 1 - image goes into the fully connected layer\r\n",
        "*   Fully Connected Layer 2 - which then goes through another layer and outputs 9\r\n",
        "*   Output layer - Then, the image is output\r\n",
        "\r\n",
        "\r\n",
        "\r\n",
        "\r\n",
        "\r\n",
        "\r\n",
        "\r\n"
      ]
    },
    {
      "cell_type": "markdown",
      "metadata": {
        "id": "XeGvelvb515e"
      },
      "source": [
        "### Part (b) Training Code - 5 pt\n",
        "\n",
        "Write code that trains your neural network given some training data. Your training code should make it easy\n",
        "to tweak the usual hyperparameters, like batch size, learning rate, and the model object itself. Make sure\n",
        "that you are checkpointing your models from time to time (the frequency is up to you). Explain your choice\n",
        "of loss function and optimizer."
      ]
    },
    {
      "cell_type": "code",
      "metadata": {
        "id": "hWUUKPCGjpF-"
      },
      "source": [
        "# Obtain the accuracy of the model on the dataset\r\n",
        "def get_accuracy(model, loader):\r\n",
        "    data = loader\r\n",
        "\r\n",
        "    correct = 0\r\n",
        "    total = 0\r\n",
        "    for imgs, labels in data:\r\n",
        "        \r\n",
        "        \r\n",
        "        #############################################\r\n",
        "        #To Enable GPU Usage\r\n",
        "        if use_cuda and torch.cuda.is_available():\r\n",
        "          imgs = imgs.cuda()\r\n",
        "          labels = labels.cuda()\r\n",
        "        #############################################\r\n",
        "        \r\n",
        "        \r\n",
        "        output = model(imgs)\r\n",
        "        \r\n",
        "        #select index with maximum prediction score\r\n",
        "        pred = output.max(1, keepdim=True)[1]\r\n",
        "        correct += pred.eq(labels.view_as(pred)).sum().item()\r\n",
        "\r\n",
        "        # Debug \r\n",
        "        #print(labels)\r\n",
        "        #print(pred)\r\n",
        "\r\n",
        "        total += imgs.shape[0]\r\n",
        "    return correct / total"
      ],
      "execution_count": 8,
      "outputs": []
    },
    {
      "cell_type": "code",
      "metadata": {
        "id": "sgcUiUv88Q2A"
      },
      "source": [
        "def train(model, batch_size=64, learning_rate=0.001, num_epochs=20):\r\n",
        "    torch.manual_seed(1000)\r\n",
        "    criterion = nn.CrossEntropyLoss()\r\n",
        "    optimizer = optim.Adam(model.parameters(), lr=learning_rate)\r\n",
        "\r\n",
        "    train_loader = torch.utils.data.DataLoader(train_data, batch_size=batch_size, shuffle=True)\r\n",
        "    val_loader = torch.utils.data.DataLoader(val_data, batch_size=batch_size, shuffle=True)\r\n",
        "\r\n",
        "    iters, losses, train_acc, val_acc = [], [], [], []\r\n",
        "\r\n",
        "    # training\r\n",
        "    n = 0 # the number of iterations\r\n",
        "    for epoch in range(num_epochs):\r\n",
        "        for imgs, labels in iter(train_loader):\r\n",
        "          \r\n",
        "          \r\n",
        "            #############################################\r\n",
        "            #To Enable GPU Usage\r\n",
        "            if use_cuda and torch.cuda.is_available():\r\n",
        "              #print(\"GPU is Available\")\r\n",
        "              imgs = imgs.cuda()\r\n",
        "              labels = labels.cuda()\r\n",
        "            #############################################\r\n",
        "            \r\n",
        "              \r\n",
        "            out = model(imgs)             # forward pass\r\n",
        "            loss = criterion(out, labels) # compute the total loss\r\n",
        "            loss.backward()               # backward pass (compute parameter updates)\r\n",
        "            optimizer.step()              # make the updates for each parameter\r\n",
        "            optimizer.zero_grad()         # a clean up step for PyTorch\r\n",
        "\r\n",
        "            # save the current training information\r\n",
        "            iters.append(n)\r\n",
        "            losses.append(float(loss)/batch_size)             # compute *average* loss\r\n",
        "            train_acc.append(get_accuracy(model, train_loader)) # compute training accuracy \r\n",
        "            val_acc.append(get_accuracy(model, val_loader))  # compute validation accuracy\r\n",
        "            n += 1\r\n",
        "\r\n",
        "        # Print the accuracies of validation and training for each epoch to observe how it changes over time \r\n",
        "        #print(\"epoch = {}, Training Accuracy = {}, Validation Accuracy = {}\".format(epoch, train_acc[epoch], val_acc[epoch]))\r\n",
        "        print(\"epoch number: \", epoch+1, \"Training accuracy: \",train_acc[epoch], \"Validation accuracy: \", val_acc[epoch])\r\n",
        "        # Save the current model (checkpoint) to a file\r\n",
        "        model_path = get_model_name(model.name, batch_size, learning_rate, epoch)\r\n",
        "        torch.save(model.state_dict(), model_path)      \r\n",
        "\r\n",
        "    # plotting\r\n",
        "    plt.title(\"Training Curve\")\r\n",
        "    plt.plot(iters, losses, label=\"Train\")\r\n",
        "    plt.xlabel(\"Iterations\")\r\n",
        "    plt.ylabel(\"Loss\")\r\n",
        "    plt.show()\r\n",
        "\r\n",
        "    plt.title(\"Training Curve\")\r\n",
        "    plt.plot(iters, train_acc, label=\"Train\")\r\n",
        "    plt.plot(iters, val_acc, label=\"Validation\")\r\n",
        "    plt.xlabel(\"Iterations\")\r\n",
        "    plt.ylabel(\"Training Accuracy\")\r\n",
        "    plt.legend(loc='best')\r\n",
        "    plt.show()\r\n",
        "\r\n",
        "    print(\"Final Training Accuracy: {}\".format(train_acc[-1]))\r\n",
        "    print(\"Final Validation Accuracy: {}\".format(val_acc[-1]))"
      ],
      "execution_count": 13,
      "outputs": []
    },
    {
      "cell_type": "markdown",
      "metadata": {
        "id": "QlhYGJPDOp22"
      },
      "source": [
        "**EXPLAINATION FOR PART 2b**\r\n",
        "\r\n",
        "I opted to use the Cross Entropy Loss for my loss function, because it tends to much better for multi classification models. I also opted for the Adam optimizer because it is much faster than the SDG. Additionally, the Adam optimizer has an adaptive learning rate (starts with bigger steps, which gradually becomes smaller), this enables it be a better optimizer on average than others. "
      ]
    },
    {
      "cell_type": "markdown",
      "metadata": {
        "id": "bk1RNgAj54rZ"
      },
      "source": [
        "### Part (c) “Overfit” to a Small Dataset - 5 pt\n",
        "\n",
        "One way to sanity check our neural network model and training code is to check whether the model is capable\n",
        "of “overfitting” or “memorizing” a small dataset. A properly constructed CNN with correct training code\n",
        "should be able to memorize the answers to a small number of images quickly.\n",
        "\n",
        "Construct a small dataset (e.g. just the images that you have collected). Then show that your model and\n",
        "training code is capable of memorizing the labels of this small data set.\n",
        "\n",
        "With a large batch size (e.g. the entire small dataset) and learning rate that is not too high, You should be\n",
        "able to obtain a 100% training accuracy on that small dataset relatively quickly (within 200 iterations)."
      ]
    },
    {
      "cell_type": "code",
      "metadata": {
        "id": "alD8YRgTleYJ"
      },
      "source": [
        "def small_net(model, batch_size=27, learning_rate=0.001, num_epochs=1):\r\n",
        "    torch.manual_seed(1000)\r\n",
        "    criterion = nn.CrossEntropyLoss()\r\n",
        "    optimizer = optim.Adam(model.parameters(), lr=learning_rate)\r\n",
        "\r\n",
        "    iters, losses, train_acc, val_acc = [], [], [], []\r\n",
        "\r\n",
        "    small_loader = torch.utils.data.DataLoader(small_data, batch_size=batch_size, shuffle=True)\r\n",
        "\r\n",
        "    # training\r\n",
        "    n = 0 # the number of iterations\r\n",
        "    for epoch in range(num_epochs):\r\n",
        "        for imgs, labels in iter(small_loader):\r\n",
        "          \r\n",
        "          \r\n",
        "            #############################################\r\n",
        "            #To Enable GPU Usage\r\n",
        "            if use_cuda and torch.cuda.is_available():\r\n",
        "              #print(\"GPU is Available\")\r\n",
        "              imgs = imgs.cuda()\r\n",
        "              labels = labels.cuda()\r\n",
        "            #############################################\r\n",
        "            \r\n",
        "              \r\n",
        "            out = model(imgs)             # forward pass\r\n",
        "            loss = criterion(out, labels) # compute the total loss\r\n",
        "            loss.backward()               # backward pass (compute parameter updates)\r\n",
        "            optimizer.step()              # make the updates for each parameter\r\n",
        "            optimizer.zero_grad()         # a clean up step for PyTorch\r\n",
        "\r\n",
        "            # save the current training information\r\n",
        "            iters.append(n)\r\n",
        "            losses.append(float(loss)/batch_size)             # compute *average* loss\r\n",
        "            train_acc.append(get_accuracy(model, small_loader)) # compute training accuracy \r\n",
        "            n += 1\r\n",
        "\r\n",
        "        # Print the accuracies of validation and training for each epoch to observe how it changes over time \r\n",
        "        #print(\"epoch = {}, Training Accuracy = {}, Validation Accuracy = {}\".format(epoch, train_acc[epoch], val_acc[epoch]))\r\n",
        "        \r\n",
        "        print(\"epoch number: \", epoch+1, \"Training accuracy: \",train_acc[epoch])\r\n",
        "        # Save the current model (checkpoint) to a file\r\n",
        "        model_path = get_model_name(model.name, batch_size, learning_rate, epoch)\r\n",
        "        torch.save(model.state_dict(), model_path)       \r\n",
        "\r\n",
        "    # plotting\r\n",
        "    plt.title(\"Training Curve\")\r\n",
        "    plt.plot(iters, losses, label=\"Train\")\r\n",
        "    plt.xlabel(\"Iterations\")\r\n",
        "    plt.ylabel(\"Loss\")\r\n",
        "    plt.show()\r\n",
        "\r\n",
        "    plt.title(\"Training Curve\")\r\n",
        "    plt.plot(iters, train_acc, label=\"Train\")\r\n",
        "    #plt.plot(iters, val_acc, label=\"Validation\")\r\n",
        "    plt.xlabel(\"Iterations\")\r\n",
        "    plt.ylabel(\"Training Accuracy\")\r\n",
        "    plt.legend(loc='best')\r\n",
        "    plt.show()\r\n",
        "\r\n",
        "    print(\"Final Training Accuracy: {}\".format(train_acc[-1]))\r\n",
        "    #print(\"Final Validation Accuracy: {}\".format(val_acc[-1]))\r\n"
      ],
      "execution_count": 126,
      "outputs": []
    },
    {
      "cell_type": "code",
      "metadata": {
        "colab": {
          "base_uri": "https://localhost:8080/"
        },
        "collapsed": true,
        "id": "lXYRBhQO6d3u",
        "outputId": "5f4526e3-133b-4626-d2e3-8e60cf268561"
      },
      "source": [
        "# Use GPU\r\n",
        "use_cuda = True\r\n",
        "\r\n",
        "small_model= GestureClassifier()\r\n",
        "\r\n",
        "if use_cuda and torch.cuda.is_available():\r\n",
        "  small_model.cuda()\r\n",
        "  print('CUDA is available!  Training on GPU ...')\r\n",
        "else:\r\n",
        "  print('CUDA is not available.  Training on CPU ...')"
      ],
      "execution_count": 10,
      "outputs": [
        {
          "output_type": "stream",
          "text": [
            "CUDA is available!  Training on GPU ...\n"
          ],
          "name": "stdout"
        }
      ]
    },
    {
      "cell_type": "code",
      "metadata": {
        "colab": {
          "base_uri": "https://localhost:8080/",
          "height": 1000
        },
        "id": "HHKE7F7-aR5e",
        "outputId": "c5046bf3-0c4f-4d67-acfc-e61457ed496a"
      },
      "source": [
        "small_net(small_model, batch_size=27, learning_rate=0.001, num_epochs=200)"
      ],
      "execution_count": 124,
      "outputs": [
        {
          "output_type": "stream",
          "text": [
            "epoch number:  1 Training accuracy:  0.14814814814814814\n",
            "epoch number:  2 Training accuracy:  0.1111111111111111\n",
            "epoch number:  3 Training accuracy:  0.2222222222222222\n",
            "epoch number:  4 Training accuracy:  0.1111111111111111\n",
            "epoch number:  5 Training accuracy:  0.2222222222222222\n",
            "epoch number:  6 Training accuracy:  0.3333333333333333\n",
            "epoch number:  7 Training accuracy:  0.4074074074074074\n",
            "epoch number:  8 Training accuracy:  0.2222222222222222\n",
            "epoch number:  9 Training accuracy:  0.4444444444444444\n",
            "epoch number:  10 Training accuracy:  0.4444444444444444\n",
            "epoch number:  11 Training accuracy:  0.4444444444444444\n",
            "epoch number:  12 Training accuracy:  0.4444444444444444\n",
            "epoch number:  13 Training accuracy:  0.5185185185185185\n",
            "epoch number:  14 Training accuracy:  0.48148148148148145\n",
            "epoch number:  15 Training accuracy:  0.6296296296296297\n",
            "epoch number:  16 Training accuracy:  0.5925925925925926\n",
            "epoch number:  17 Training accuracy:  0.5555555555555556\n",
            "epoch number:  18 Training accuracy:  0.5925925925925926\n",
            "epoch number:  19 Training accuracy:  0.5185185185185185\n",
            "epoch number:  20 Training accuracy:  0.5185185185185185\n",
            "epoch number:  21 Training accuracy:  0.4444444444444444\n",
            "epoch number:  22 Training accuracy:  0.48148148148148145\n",
            "epoch number:  23 Training accuracy:  0.5925925925925926\n",
            "epoch number:  24 Training accuracy:  0.4444444444444444\n",
            "epoch number:  25 Training accuracy:  0.6666666666666666\n",
            "epoch number:  26 Training accuracy:  0.5185185185185185\n",
            "epoch number:  27 Training accuracy:  0.5925925925925926\n",
            "epoch number:  28 Training accuracy:  0.7407407407407407\n",
            "epoch number:  29 Training accuracy:  0.7037037037037037\n",
            "epoch number:  30 Training accuracy:  0.8518518518518519\n",
            "epoch number:  31 Training accuracy:  0.7777777777777778\n",
            "epoch number:  32 Training accuracy:  0.9259259259259259\n",
            "epoch number:  33 Training accuracy:  0.9259259259259259\n",
            "epoch number:  34 Training accuracy:  0.9629629629629629\n",
            "epoch number:  35 Training accuracy:  0.9259259259259259\n",
            "epoch number:  36 Training accuracy:  0.9629629629629629\n",
            "epoch number:  37 Training accuracy:  1.0\n",
            "epoch number:  38 Training accuracy:  0.9259259259259259\n",
            "epoch number:  39 Training accuracy:  1.0\n",
            "epoch number:  40 Training accuracy:  1.0\n",
            "epoch number:  41 Training accuracy:  1.0\n",
            "epoch number:  42 Training accuracy:  1.0\n",
            "epoch number:  43 Training accuracy:  1.0\n",
            "epoch number:  44 Training accuracy:  1.0\n",
            "epoch number:  45 Training accuracy:  1.0\n",
            "epoch number:  46 Training accuracy:  1.0\n",
            "epoch number:  47 Training accuracy:  1.0\n",
            "epoch number:  48 Training accuracy:  1.0\n",
            "epoch number:  49 Training accuracy:  1.0\n",
            "epoch number:  50 Training accuracy:  1.0\n",
            "epoch number:  51 Training accuracy:  1.0\n",
            "epoch number:  52 Training accuracy:  1.0\n",
            "epoch number:  53 Training accuracy:  1.0\n",
            "epoch number:  54 Training accuracy:  1.0\n",
            "epoch number:  55 Training accuracy:  1.0\n",
            "epoch number:  56 Training accuracy:  1.0\n",
            "epoch number:  57 Training accuracy:  1.0\n",
            "epoch number:  58 Training accuracy:  1.0\n",
            "epoch number:  59 Training accuracy:  1.0\n",
            "epoch number:  60 Training accuracy:  1.0\n",
            "epoch number:  61 Training accuracy:  1.0\n",
            "epoch number:  62 Training accuracy:  1.0\n",
            "epoch number:  63 Training accuracy:  1.0\n",
            "epoch number:  64 Training accuracy:  1.0\n",
            "epoch number:  65 Training accuracy:  1.0\n",
            "epoch number:  66 Training accuracy:  1.0\n",
            "epoch number:  67 Training accuracy:  1.0\n",
            "epoch number:  68 Training accuracy:  1.0\n",
            "epoch number:  69 Training accuracy:  1.0\n",
            "epoch number:  70 Training accuracy:  1.0\n",
            "epoch number:  71 Training accuracy:  1.0\n",
            "epoch number:  72 Training accuracy:  1.0\n",
            "epoch number:  73 Training accuracy:  1.0\n",
            "epoch number:  74 Training accuracy:  1.0\n",
            "epoch number:  75 Training accuracy:  1.0\n",
            "epoch number:  76 Training accuracy:  1.0\n",
            "epoch number:  77 Training accuracy:  1.0\n",
            "epoch number:  78 Training accuracy:  1.0\n",
            "epoch number:  79 Training accuracy:  1.0\n",
            "epoch number:  80 Training accuracy:  1.0\n",
            "epoch number:  81 Training accuracy:  1.0\n",
            "epoch number:  82 Training accuracy:  1.0\n",
            "epoch number:  83 Training accuracy:  1.0\n",
            "epoch number:  84 Training accuracy:  1.0\n",
            "epoch number:  85 Training accuracy:  1.0\n",
            "epoch number:  86 Training accuracy:  1.0\n",
            "epoch number:  87 Training accuracy:  1.0\n",
            "epoch number:  88 Training accuracy:  1.0\n",
            "epoch number:  89 Training accuracy:  1.0\n",
            "epoch number:  90 Training accuracy:  1.0\n",
            "epoch number:  91 Training accuracy:  1.0\n",
            "epoch number:  92 Training accuracy:  1.0\n",
            "epoch number:  93 Training accuracy:  1.0\n",
            "epoch number:  94 Training accuracy:  1.0\n",
            "epoch number:  95 Training accuracy:  1.0\n",
            "epoch number:  96 Training accuracy:  1.0\n",
            "epoch number:  97 Training accuracy:  1.0\n",
            "epoch number:  98 Training accuracy:  1.0\n",
            "epoch number:  99 Training accuracy:  1.0\n",
            "epoch number:  100 Training accuracy:  1.0\n",
            "epoch number:  101 Training accuracy:  1.0\n",
            "epoch number:  102 Training accuracy:  1.0\n",
            "epoch number:  103 Training accuracy:  1.0\n",
            "epoch number:  104 Training accuracy:  1.0\n",
            "epoch number:  105 Training accuracy:  1.0\n",
            "epoch number:  106 Training accuracy:  1.0\n",
            "epoch number:  107 Training accuracy:  1.0\n",
            "epoch number:  108 Training accuracy:  1.0\n",
            "epoch number:  109 Training accuracy:  1.0\n",
            "epoch number:  110 Training accuracy:  1.0\n",
            "epoch number:  111 Training accuracy:  1.0\n",
            "epoch number:  112 Training accuracy:  1.0\n",
            "epoch number:  113 Training accuracy:  1.0\n",
            "epoch number:  114 Training accuracy:  1.0\n",
            "epoch number:  115 Training accuracy:  1.0\n",
            "epoch number:  116 Training accuracy:  1.0\n",
            "epoch number:  117 Training accuracy:  1.0\n",
            "epoch number:  118 Training accuracy:  1.0\n",
            "epoch number:  119 Training accuracy:  1.0\n",
            "epoch number:  120 Training accuracy:  1.0\n",
            "epoch number:  121 Training accuracy:  1.0\n",
            "epoch number:  122 Training accuracy:  1.0\n",
            "epoch number:  123 Training accuracy:  1.0\n",
            "epoch number:  124 Training accuracy:  1.0\n",
            "epoch number:  125 Training accuracy:  1.0\n",
            "epoch number:  126 Training accuracy:  1.0\n",
            "epoch number:  127 Training accuracy:  1.0\n",
            "epoch number:  128 Training accuracy:  1.0\n",
            "epoch number:  129 Training accuracy:  1.0\n",
            "epoch number:  130 Training accuracy:  1.0\n",
            "epoch number:  131 Training accuracy:  1.0\n",
            "epoch number:  132 Training accuracy:  1.0\n",
            "epoch number:  133 Training accuracy:  1.0\n",
            "epoch number:  134 Training accuracy:  1.0\n",
            "epoch number:  135 Training accuracy:  1.0\n",
            "epoch number:  136 Training accuracy:  1.0\n",
            "epoch number:  137 Training accuracy:  1.0\n",
            "epoch number:  138 Training accuracy:  1.0\n",
            "epoch number:  139 Training accuracy:  1.0\n",
            "epoch number:  140 Training accuracy:  1.0\n",
            "epoch number:  141 Training accuracy:  1.0\n",
            "epoch number:  142 Training accuracy:  1.0\n",
            "epoch number:  143 Training accuracy:  1.0\n",
            "epoch number:  144 Training accuracy:  1.0\n",
            "epoch number:  145 Training accuracy:  1.0\n",
            "epoch number:  146 Training accuracy:  1.0\n",
            "epoch number:  147 Training accuracy:  1.0\n",
            "epoch number:  148 Training accuracy:  1.0\n",
            "epoch number:  149 Training accuracy:  1.0\n",
            "epoch number:  150 Training accuracy:  1.0\n",
            "epoch number:  151 Training accuracy:  1.0\n",
            "epoch number:  152 Training accuracy:  1.0\n",
            "epoch number:  153 Training accuracy:  1.0\n",
            "epoch number:  154 Training accuracy:  1.0\n",
            "epoch number:  155 Training accuracy:  1.0\n",
            "epoch number:  156 Training accuracy:  1.0\n",
            "epoch number:  157 Training accuracy:  1.0\n",
            "epoch number:  158 Training accuracy:  1.0\n",
            "epoch number:  159 Training accuracy:  1.0\n",
            "epoch number:  160 Training accuracy:  1.0\n",
            "epoch number:  161 Training accuracy:  1.0\n",
            "epoch number:  162 Training accuracy:  1.0\n",
            "epoch number:  163 Training accuracy:  1.0\n",
            "epoch number:  164 Training accuracy:  1.0\n",
            "epoch number:  165 Training accuracy:  1.0\n",
            "epoch number:  166 Training accuracy:  1.0\n",
            "epoch number:  167 Training accuracy:  1.0\n",
            "epoch number:  168 Training accuracy:  1.0\n",
            "epoch number:  169 Training accuracy:  1.0\n",
            "epoch number:  170 Training accuracy:  1.0\n",
            "epoch number:  171 Training accuracy:  1.0\n",
            "epoch number:  172 Training accuracy:  1.0\n",
            "epoch number:  173 Training accuracy:  1.0\n",
            "epoch number:  174 Training accuracy:  1.0\n",
            "epoch number:  175 Training accuracy:  1.0\n",
            "epoch number:  176 Training accuracy:  1.0\n",
            "epoch number:  177 Training accuracy:  1.0\n",
            "epoch number:  178 Training accuracy:  1.0\n",
            "epoch number:  179 Training accuracy:  1.0\n",
            "epoch number:  180 Training accuracy:  1.0\n",
            "epoch number:  181 Training accuracy:  1.0\n",
            "epoch number:  182 Training accuracy:  1.0\n",
            "epoch number:  183 Training accuracy:  1.0\n",
            "epoch number:  184 Training accuracy:  1.0\n",
            "epoch number:  185 Training accuracy:  1.0\n",
            "epoch number:  186 Training accuracy:  1.0\n",
            "epoch number:  187 Training accuracy:  1.0\n",
            "epoch number:  188 Training accuracy:  1.0\n",
            "epoch number:  189 Training accuracy:  1.0\n",
            "epoch number:  190 Training accuracy:  1.0\n",
            "epoch number:  191 Training accuracy:  1.0\n",
            "epoch number:  192 Training accuracy:  1.0\n",
            "epoch number:  193 Training accuracy:  1.0\n",
            "epoch number:  194 Training accuracy:  1.0\n",
            "epoch number:  195 Training accuracy:  1.0\n",
            "epoch number:  196 Training accuracy:  1.0\n",
            "epoch number:  197 Training accuracy:  1.0\n",
            "epoch number:  198 Training accuracy:  1.0\n",
            "epoch number:  199 Training accuracy:  1.0\n",
            "epoch number:  200 Training accuracy:  1.0\n"
          ],
          "name": "stdout"
        },
        {
          "output_type": "display_data",
          "data": {
            "image/png": "[encoded data removed]",
            "text/plain": [
              "<Figure size 432x288 with 1 Axes>"
            ]
          },
          "metadata": {
            "tags": [],
            "needs_background": "light"
          }
        },
        {
          "output_type": "display_data",
          "data": {
            "image/png": "[encoded data removed]",
            "text/plain": [
              "<Figure size 432x288 with 1 Axes>"
            ]
          },
          "metadata": {
            "tags": [],
            "needs_background": "light"
          }
        },
        {
          "output_type": "stream",
          "text": [
            "Final Training Accuracy: 1.0\n"
          ],
          "name": "stdout"
        }
      ]
    },
    {
      "cell_type": "markdown",
      "metadata": {
        "id": "nvDLw-Vz6eVS"
      },
      "source": [
        "### 3. Hyperparameter Search [10 pt]\n",
        "\n",
        "### Part (a) - 1 pt\n",
        "\n",
        "List 3 hyperparameters that you think are most worth tuning. Choose at least one hyperparameter related to\n",
        "the model architecture."
      ]
    },
    {
      "cell_type": "markdown",
      "metadata": {
        "id": "tQ3A1854CPYF"
      },
      "source": [
        "**EXPLAINATION FOR 3a**\r\n",
        "\r\n",
        "The hyperparameters that are worth tuning are the *batch size*, *learning rate*, and *number of convolution layers* "
      ]
    },
    {
      "cell_type": "markdown",
      "metadata": {
        "id": "zeD6EzPB6kSW"
      },
      "source": [
        "### Part (b) - 5 pt\n",
        "\n",
        "Tune the hyperparameters you listed in Part (a), trying as many values as you need to until you feel satisfied\n",
        "that you are getting a good model. Plot the training curve of at least 4 different hyperparameter settings."
      ]
    },
    {
      "cell_type": "code",
      "metadata": {
        "colab": {
          "base_uri": "https://localhost:8080/",
          "height": 875
        },
        "id": "PolG-_OeEBmp",
        "outputId": "f097131d-2e6b-4297-c4b6-b2134fd34766"
      },
      "source": [
        "# Use GPU\r\n",
        "use_cuda = True\r\n",
        "\r\n",
        "ges_model1= GestureClassifier()\r\n",
        "\r\n",
        "if use_cuda and torch.cuda.is_available():\r\n",
        "  ges_model1.cuda()\r\n",
        "  print('CUDA is available!  Training on GPU ...')\r\n",
        "else:\r\n",
        "  print('CUDA is not available.  Training on CPU ...')\r\n",
        "\r\n",
        "# Setting 1 - Using Batch Size 64, learning rate = 0.001, 2 CNN Layers\r\n",
        "train(ges_model1, batch_size=64, learning_rate=0.001,num_epochs=15)"
      ],
      "execution_count": 128,
      "outputs": [
        {
          "output_type": "stream",
          "text": [
            "CUDA is available!  Training on GPU ...\n",
            "epoch number:  1 Training accuracy:  0.1542111506524318 Validation accuracy:  0.15591397849462366\n",
            "epoch number:  2 Training accuracy:  0.12040332147093713 Validation accuracy:  0.13440860215053763\n",
            "epoch number:  3 Training accuracy:  0.11862396204033215 Validation accuracy:  0.11559139784946236\n",
            "epoch number:  4 Training accuracy:  0.14056939501779359 Validation accuracy:  0.14516129032258066\n",
            "epoch number:  5 Training accuracy:  0.2680901542111507 Validation accuracy:  0.28225806451612906\n",
            "epoch number:  6 Training accuracy:  0.1915776986951364 Validation accuracy:  0.18548387096774194\n",
            "epoch number:  7 Training accuracy:  0.1387900355871886 Validation accuracy:  0.1424731182795699\n",
            "epoch number:  8 Training accuracy:  0.18505338078291814 Validation accuracy:  0.16666666666666666\n",
            "epoch number:  9 Training accuracy:  0.22597864768683273 Validation accuracy:  0.1935483870967742\n",
            "epoch number:  10 Training accuracy:  0.23606168446026096 Validation accuracy:  0.23655913978494625\n",
            "epoch number:  11 Training accuracy:  0.25741399762752076 Validation accuracy:  0.2661290322580645\n",
            "epoch number:  12 Training accuracy:  0.2597864768683274 Validation accuracy:  0.28225806451612906\n",
            "epoch number:  13 Training accuracy:  0.2781731909845789 Validation accuracy:  0.32526881720430106\n",
            "epoch number:  14 Training accuracy:  0.3517200474495848 Validation accuracy:  0.3924731182795699\n",
            "epoch number:  15 Training accuracy:  0.3404507710557533 Validation accuracy:  0.3548387096774194\n"
          ],
          "name": "stdout"
        },
        {
          "output_type": "display_data",
          "data": {
            "image/png": "[encoded data removed]",
            "text/plain": [
              "<Figure size 432x288 with 1 Axes>"
            ]
          },
          "metadata": {
            "tags": [],
            "needs_background": "light"
          }
        },
        {
          "output_type": "display_data",
          "data": {
            "image/png": "[encoded data removed]",
            "text/plain": [
              "<Figure size 432x288 with 1 Axes>"
            ]
          },
          "metadata": {
            "tags": [],
            "needs_background": "light"
          }
        },
        {
          "output_type": "stream",
          "text": [
            "Final Training Accuracy: 0.9833926453143536\n",
            "Final Validation Accuracy: 0.6989247311827957\n"
          ],
          "name": "stdout"
        }
      ]
    },
    {
      "cell_type": "code",
      "metadata": {
        "colab": {
          "base_uri": "https://localhost:8080/",
          "height": 875
        },
        "id": "YtC-zAfvXATP",
        "outputId": "eae0d412-2f92-4b97-b296-0d8e8d875596"
      },
      "source": [
        "# Use GPU\r\n",
        "use_cuda = True\r\n",
        "ges_model2= GestureClassifier()\r\n",
        "\r\n",
        "if use_cuda and torch.cuda.is_available():\r\n",
        "  ges_model2.cuda()\r\n",
        "  print('CUDA is available!  Training on GPU ...')\r\n",
        "else:\r\n",
        "  print('CUDA is not available.  Training on CPU ...')\r\n",
        "\r\n",
        "# Setting 2 - Using Batch Size 128, lr =0.001 , 2 CNN Layers\r\n",
        "train(ges_model2, batch_size=128, learning_rate=0.001, num_epochs=15)\r\n"
      ],
      "execution_count": 14,
      "outputs": [
        {
          "output_type": "stream",
          "text": [
            "CUDA is available!  Training on GPU ...\n",
            "epoch number:  1 Training accuracy:  0.11209964412811388 Validation accuracy:  0.11021505376344086\n",
            "epoch number:  2 Training accuracy:  0.11209964412811388 Validation accuracy:  0.11021505376344086\n",
            "epoch number:  3 Training accuracy:  0.13997627520759193 Validation accuracy:  0.12096774193548387\n",
            "epoch number:  4 Training accuracy:  0.11981020166073547 Validation accuracy:  0.12634408602150538\n",
            "epoch number:  5 Training accuracy:  0.11209964412811388 Validation accuracy:  0.11021505376344086\n",
            "epoch number:  6 Training accuracy:  0.11387900355871886 Validation accuracy:  0.12096774193548387\n",
            "epoch number:  7 Training accuracy:  0.13641755634638197 Validation accuracy:  0.11827956989247312\n",
            "epoch number:  8 Training accuracy:  0.11565836298932385 Validation accuracy:  0.11290322580645161\n",
            "epoch number:  9 Training accuracy:  0.11862396204033215 Validation accuracy:  0.11021505376344086\n",
            "epoch number:  10 Training accuracy:  0.14590747330960854 Validation accuracy:  0.1532258064516129\n",
            "epoch number:  11 Training accuracy:  0.16963226571767498 Validation accuracy:  0.16666666666666666\n",
            "epoch number:  12 Training accuracy:  0.17793594306049823 Validation accuracy:  0.1693548387096774\n",
            "epoch number:  13 Training accuracy:  0.20937129300118623 Validation accuracy:  0.24731182795698925\n",
            "epoch number:  14 Training accuracy:  0.20284697508896798 Validation accuracy:  0.20430107526881722\n",
            "epoch number:  15 Training accuracy:  0.19988137603795966 Validation accuracy:  0.20430107526881722\n"
          ],
          "name": "stdout"
        },
        {
          "output_type": "display_data",
          "data": {
            "image/png": "[encoded data removed]",
            "text/plain": [
              "<Figure size 432x288 with 1 Axes>"
            ]
          },
          "metadata": {
            "tags": [],
            "needs_background": "light"
          }
        },
        {
          "output_type": "display_data",
          "data": {
            "image/png": "[encoded data removed]",
            "text/plain": [
              "<Figure size 432x288 with 1 Axes>"
            ]
          },
          "metadata": {
            "tags": [],
            "needs_background": "light"
          }
        },
        {
          "output_type": "stream",
          "text": [
            "Final Training Accuracy: 0.8244365361803084\n",
            "Final Validation Accuracy: 0.7204301075268817\n"
          ],
          "name": "stdout"
        }
      ]
    },
    {
      "cell_type": "code",
      "metadata": {
        "colab": {
          "base_uri": "https://localhost:8080/",
          "height": 875
        },
        "id": "Wth9eKYPRRiE",
        "outputId": "e4b26379-b040-4b5d-ee27-9a85a9e29513"
      },
      "source": [
        "# Setting 3 - Using Batch Size 64, lr =0.003 , 2 CNN Layers\r\n",
        "# Use GPU\r\n",
        "use_cuda = True\r\n",
        "ges_model3= GestureClassifier()\r\n",
        "\r\n",
        "if use_cuda and torch.cuda.is_available():\r\n",
        "  ges_model3.cuda()\r\n",
        "  print('CUDA is available!  Training on GPU ...')\r\n",
        "else:\r\n",
        "  print('CUDA is not available.  Training on CPU ...')\r\n",
        "\r\n",
        "train(ges_model3, batch_size=64, learning_rate=0.003, num_epochs=15)"
      ],
      "execution_count": 15,
      "outputs": [
        {
          "output_type": "stream",
          "text": [
            "CUDA is available!  Training on GPU ...\n",
            "epoch number:  1 Training accuracy:  0.11209964412811388 Validation accuracy:  0.11290322580645161\n",
            "epoch number:  2 Training accuracy:  0.13641755634638197 Validation accuracy:  0.13172043010752688\n",
            "epoch number:  3 Training accuracy:  0.11150652431791222 Validation accuracy:  0.12096774193548387\n",
            "epoch number:  4 Training accuracy:  0.10320284697508897 Validation accuracy:  0.10215053763440861\n",
            "epoch number:  5 Training accuracy:  0.11209964412811388 Validation accuracy:  0.11290322580645161\n",
            "epoch number:  6 Training accuracy:  0.10320284697508897 Validation accuracy:  0.10215053763440861\n",
            "epoch number:  7 Training accuracy:  0.11684460260972716 Validation accuracy:  0.11021505376344086\n",
            "epoch number:  8 Training accuracy:  0.11743772241992882 Validation accuracy:  0.12903225806451613\n",
            "epoch number:  9 Training accuracy:  0.12099644128113879 Validation accuracy:  0.12903225806451613\n",
            "epoch number:  10 Training accuracy:  0.11862396204033215 Validation accuracy:  0.13440860215053763\n",
            "epoch number:  11 Training accuracy:  0.134638196915777 Validation accuracy:  0.12365591397849462\n",
            "epoch number:  12 Training accuracy:  0.1269276393831554 Validation accuracy:  0.09946236559139784\n",
            "epoch number:  13 Training accuracy:  0.11209964412811388 Validation accuracy:  0.11290322580645161\n",
            "epoch number:  14 Training accuracy:  0.11209964412811388 Validation accuracy:  0.11290322580645161\n",
            "epoch number:  15 Training accuracy:  0.11209964412811388 Validation accuracy:  0.11290322580645161\n"
          ],
          "name": "stdout"
        },
        {
          "output_type": "display_data",
          "data": {
            "image/png": "[encoded data removed]",
            "text/plain": [
              "<Figure size 432x288 with 1 Axes>"
            ]
          },
          "metadata": {
            "tags": [],
            "needs_background": "light"
          }
        },
        {
          "output_type": "display_data",
          "data": {
            "image/png": "[encoded data removed]",
            "text/plain": [
              "<Figure size 432x288 with 1 Axes>"
            ]
          },
          "metadata": {
            "tags": [],
            "needs_background": "light"
          }
        },
        {
          "output_type": "stream",
          "text": [
            "Final Training Accuracy: 1.0\n",
            "Final Validation Accuracy: 0.696236559139785\n"
          ],
          "name": "stdout"
        }
      ]
    },
    {
      "cell_type": "code",
      "metadata": {
        "id": "Jvi2C3IZ2VqQ"
      },
      "source": [
        " #Convolutional Neural Network Architecture for a 3 layer CNN \r\n",
        "class GestureClassifierThree(nn.Module):\r\n",
        "      def __init__(self):\r\n",
        "          self.name = \"GestureClassifierThree\"\r\n",
        "          super(GestureClassifierThree, self).__init__()\r\n",
        "          self.conv1 = nn.Conv2d(3, 5, 5) #in_channels, out_chanels, kernel_size\r\n",
        "          self.pool = nn.MaxPool2d(2, 2) #kernel_size, stride \r\n",
        "          self.conv2 = nn.Conv2d(5, 10, 5) #in_channels, out_chanels, kernel_size\r\n",
        "          self.conv3 = nn.Conv2d(10, 20, 4) #in_channels, out_chanels, kernel_size\r\n",
        "          self.fc1 = nn.Linear(20*25*25, 30)\r\n",
        "          self.fc2 = nn.Linear(30, 9)\r\n",
        "\r\n",
        "      def forward(self, x):\r\n",
        "          x = self.pool(F.relu(self.conv1(x)))\r\n",
        "          x = self.pool(F.relu(self.conv2(x)))\r\n",
        "          x = self.pool(F.relu(self.conv3(x)))\r\n",
        "          x = x.view(-1, 20*25*25)\r\n",
        "          x = F.relu(self.fc1(x))\r\n",
        "          x = self.fc2(x)\r\n",
        "          return x"
      ],
      "execution_count": 16,
      "outputs": []
    },
    {
      "cell_type": "code",
      "metadata": {
        "colab": {
          "base_uri": "https://localhost:8080/",
          "height": 875
        },
        "id": "jD5ZbDXuippW",
        "outputId": "239af5e0-3ebf-4f48-baa1-55ef420c1540"
      },
      "source": [
        "# Setting 4 - Using Batch Size 64, lr =0.003 , 3 CNN Layers\r\n",
        "# Use GPU\r\n",
        "use_cuda = True\r\n",
        "ges_model4= GestureClassifierThree()\r\n",
        "\r\n",
        "if use_cuda and torch.cuda.is_available():\r\n",
        "  ges_model4.cuda()\r\n",
        "  print('CUDA is available!  Training on GPU ...')\r\n",
        "else:\r\n",
        "  print('CUDA is not available.  Training on CPU ...')\r\n",
        "\r\n",
        "train(ges_model4, batch_size=64, learning_rate=0.003, num_epochs=15)"
      ],
      "execution_count": 17,
      "outputs": [
        {
          "output_type": "stream",
          "text": [
            "CUDA is available!  Training on GPU ...\n",
            "epoch number:  1 Training accuracy:  0.11150652431791222 Validation accuracy:  0.11021505376344086\n",
            "epoch number:  2 Training accuracy:  0.11387900355871886 Validation accuracy:  0.12365591397849462\n",
            "epoch number:  3 Training accuracy:  0.12336892052194544 Validation accuracy:  0.12365591397849462\n",
            "epoch number:  4 Training accuracy:  0.11743772241992882 Validation accuracy:  0.11290322580645161\n",
            "epoch number:  5 Training accuracy:  0.11803084223013048 Validation accuracy:  0.11290322580645161\n",
            "epoch number:  6 Training accuracy:  0.11209964412811388 Validation accuracy:  0.11290322580645161\n",
            "epoch number:  7 Training accuracy:  0.11209964412811388 Validation accuracy:  0.11290322580645161\n",
            "epoch number:  8 Training accuracy:  0.11209964412811388 Validation accuracy:  0.11290322580645161\n",
            "epoch number:  9 Training accuracy:  0.11684460260972716 Validation accuracy:  0.12096774193548387\n",
            "epoch number:  10 Training accuracy:  0.19454329774614473 Validation accuracy:  0.17473118279569894\n",
            "epoch number:  11 Training accuracy:  0.304270462633452 Validation accuracy:  0.2956989247311828\n",
            "epoch number:  12 Training accuracy:  0.26037959667852906 Validation accuracy:  0.2661290322580645\n",
            "epoch number:  13 Training accuracy:  0.23072360616844603 Validation accuracy:  0.2661290322580645\n",
            "epoch number:  14 Training accuracy:  0.27876631079478054 Validation accuracy:  0.27419354838709675\n",
            "epoch number:  15 Training accuracy:  0.34223013048635825 Validation accuracy:  0.34139784946236557\n"
          ],
          "name": "stdout"
        },
        {
          "output_type": "display_data",
          "data": {
            "image/png": "[encoded data removed]",
            "text/plain": [
              "<Figure size 432x288 with 1 Axes>"
            ]
          },
          "metadata": {
            "tags": [],
            "needs_background": "light"
          }
        },
        {
          "output_type": "display_data",
          "data": {
            "image/png": "[encoded data removed]",
            "text/plain": [
              "<Figure size 432x288 with 1 Axes>"
            ]
          },
          "metadata": {
            "tags": [],
            "needs_background": "light"
          }
        },
        {
          "output_type": "stream",
          "text": [
            "Final Training Accuracy: 0.928232502965599\n",
            "Final Validation Accuracy: 0.7123655913978495\n"
          ],
          "name": "stdout"
        }
      ]
    },
    {
      "cell_type": "code",
      "metadata": {
        "colab": {
          "base_uri": "https://localhost:8080/",
          "height": 875
        },
        "id": "H7K93OeBLeD-",
        "outputId": "93183e37-467e-4382-9ba4-037f10681a36"
      },
      "source": [
        "# Setting 5 - Using Batch Size 64, lr =0.001 , 3 CNN Layers\r\n",
        "# Use GPU\r\n",
        "use_cuda = True\r\n",
        "ges_model5= GestureClassifierThree()\r\n",
        "\r\n",
        "if use_cuda and torch.cuda.is_available():\r\n",
        "  ges_model5.cuda()\r\n",
        "  print('CUDA is available!  Training on GPU ...')\r\n",
        "else:\r\n",
        "  print('CUDA is not available.  Training on CPU ...')\r\n",
        "\r\n",
        "train(ges_model5, batch_size=64, learning_rate=0.001, num_epochs=15)"
      ],
      "execution_count": 18,
      "outputs": [
        {
          "output_type": "stream",
          "text": [
            "CUDA is available!  Training on GPU ...\n",
            "epoch number:  1 Training accuracy:  0.11209964412811388 Validation accuracy:  0.11290322580645161\n",
            "epoch number:  2 Training accuracy:  0.11209964412811388 Validation accuracy:  0.11290322580645161\n",
            "epoch number:  3 Training accuracy:  0.1269276393831554 Validation accuracy:  0.13172043010752688\n",
            "epoch number:  4 Training accuracy:  0.11209964412811388 Validation accuracy:  0.11290322580645161\n",
            "epoch number:  5 Training accuracy:  0.11565836298932385 Validation accuracy:  0.12096774193548387\n",
            "epoch number:  6 Training accuracy:  0.11209964412811388 Validation accuracy:  0.11021505376344086\n",
            "epoch number:  7 Training accuracy:  0.11209964412811388 Validation accuracy:  0.11290322580645161\n",
            "epoch number:  8 Training accuracy:  0.11209964412811388 Validation accuracy:  0.11290322580645161\n",
            "epoch number:  9 Training accuracy:  0.11209964412811388 Validation accuracy:  0.11290322580645161\n",
            "epoch number:  10 Training accuracy:  0.17200474495848161 Validation accuracy:  0.17473118279569894\n",
            "epoch number:  11 Training accuracy:  0.19098457888493475 Validation accuracy:  0.21236559139784947\n",
            "epoch number:  12 Training accuracy:  0.1132858837485172 Validation accuracy:  0.11559139784946236\n",
            "epoch number:  13 Training accuracy:  0.11743772241992882 Validation accuracy:  0.12365591397849462\n",
            "epoch number:  14 Training accuracy:  0.1162514827995255 Validation accuracy:  0.11827956989247312\n",
            "epoch number:  15 Training accuracy:  0.11209964412811388 Validation accuracy:  0.11290322580645161\n"
          ],
          "name": "stdout"
        },
        {
          "output_type": "display_data",
          "data": {
            "image/png": "[encoded data removed]",
            "text/plain": [
              "<Figure size 432x288 with 1 Axes>"
            ]
          },
          "metadata": {
            "tags": [],
            "needs_background": "light"
          }
        },
        {
          "output_type": "display_data",
          "data": {
            "image/png": "[encoded data removed]",
            "text/plain": [
              "<Figure size 432x288 with 1 Axes>"
            ]
          },
          "metadata": {
            "tags": [],
            "needs_background": "light"
          }
        },
        {
          "output_type": "stream",
          "text": [
            "Final Training Accuracy: 0.9223013048635824\n",
            "Final Validation Accuracy: 0.7204301075268817\n"
          ],
          "name": "stdout"
        }
      ]
    },
    {
      "cell_type": "markdown",
      "metadata": {
        "id": "H93iN5_l60BO"
      },
      "source": [
        "### Part (c) - 2 pt\n",
        "Choose the best model out of all the ones that you have trained. Justify your choice."
      ]
    },
    {
      "cell_type": "markdown",
      "metadata": {
        "id": "cwdWKqjlC1DE"
      },
      "source": [
        "**EXPLAINATION FOR PART 3c**\r\n",
        "\r\n",
        "The best model (model 2) that I have trained was where the hyperparameters were: \r\n",
        "\r\n",
        "*   Batch Size = 128\r\n",
        "*   Learning Rate = 0.001\r\n",
        "*   CNN Architecture Layers = 2 layers\r\n",
        "\r\n",
        "I chose model 2 to be my best model. However, there was another model that stood out to me as well, model 5. The difference between the two models were the number of CNN layers that were used and the batch size. The one with three CNN layers (model 5) gave me a higher training accuracy at 92%. However both models gave me the validation accuracy at 72%, whereas the model that I finally opted with (model 2) with 2 CNN layers had a slightly lower training accuracy at 82%. However, it can be seen that the loss function for both models tends to decrease significantly with less fluculations relative to the most other models (model 3 was just overtrained, so loss was lowest). It is better to choose the model with a higher validation accuracy, because this is an indicator of the model being able to generalize for real time data, however this was not what was my deciding factor was. I made a decision based on the loss curve, and the curve that was closer to the training accuracy, which means that the difference between the training accuracy and validation accuracy should be smaller (smaller error). It is much better to pick a model with lower training accuracy than validation accuracy, to prevent overfitting the data. This allows for the model to become more confident in its predictions, which can also be observed with the loss curve decreasing over more epochs, and the numbers became smallest relative to other models. Therefore, the model I chose to be my best model was model 2, with less CNN layers since it gave me the highest validation accuracy with an exponentially decreasing loss curve, indicating that a smaller learning rate and a slightly larger batch size improved the model. \r\n",
        "\r\n"
      ]
    },
    {
      "cell_type": "markdown",
      "metadata": {
        "id": "QzNA5oup67JO"
      },
      "source": [
        "### Part (d) - 2 pt\n",
        "Report the test accuracy of your best model. You should only do this step once and prior to this step you should have only used the training and validation data."
      ]
    },
    {
      "cell_type": "code",
      "metadata": {
        "id": "2eJ7AbVl6-ax",
        "colab": {
          "base_uri": "https://localhost:8080/"
        },
        "outputId": "8879a4bb-6986-4406-a4af-4c8124b54618"
      },
      "source": [
        "# Test accuracy of my model\r\n",
        "\r\n",
        "# Get the test loader first\r\n",
        "test_loader = torch.utils.data.DataLoader(test_data, batch_size=128, shuffle=True)\r\n",
        "test_accuracy = get_accuracy(ges_model2, test_loader)\r\n",
        "\r\n",
        "print(\"Test Accuracy for Model: \", test_accuracy)\r\n"
      ],
      "execution_count": 21,
      "outputs": [
        {
          "output_type": "stream",
          "text": [
            "Test Accuracy for Model:  0.7211796246648794\n"
          ],
          "name": "stdout"
        }
      ]
    },
    {
      "cell_type": "markdown",
      "metadata": {
        "id": "Wrem-iXV6_Bz"
      },
      "source": [
        "### 4. Transfer Learning [15 pt]\n",
        "For many image classification tasks, it is generally not a good idea to train a very large deep neural network\n",
        "model from scratch due to the enormous compute requirements and lack of sufficient amounts of training\n",
        "data.\n",
        "\n",
        "One of the better options is to try using an existing model that performs a similar task to the one you need\n",
        "to solve. This method of utilizing a pre-trained network for other similar tasks is broadly termed **Transfer\n",
        "Learning**. In this assignment, we will use Transfer Learning to extract features from the hand gesture\n",
        "images. Then, train a smaller network to use these features as input and classify the hand gestures.\n",
        "\n",
        "As you have learned from the CNN lecture, convolution layers extract various features from the images which\n",
        "get utilized by the fully connected layers for correct classification. AlexNet architecture played a pivotal\n",
        "role in establishing Deep Neural Nets as a go-to tool for image classification problems and we will use an\n",
        "ImageNet pre-trained AlexNet model to extract features in this assignment."
      ]
    },
    {
      "cell_type": "markdown",
      "metadata": {
        "id": "rWdQJz4Q7O2F"
      },
      "source": [
        "### Part (a) - 5 pt\n",
        "Here is the code to load the AlexNet network, with pretrained weights. When you first run the code, PyTorch\n",
        "will download the pretrained weights from the internet."
      ]
    },
    {
      "cell_type": "code",
      "metadata": {
        "collapsed": true,
        "id": "BJKcTW9C7TZk"
      },
      "source": [
        "import torchvision.models\n",
        "alexnet = torchvision.models.alexnet(pretrained=True)"
      ],
      "execution_count": 56,
      "outputs": []
    },
    {
      "cell_type": "markdown",
      "metadata": {
        "id": "NQ0GZYaP7VAR"
      },
      "source": [
        "The alexnet model is split up into two components: *alexnet.features* and *alexnet.classifier*. The\n",
        "first neural network component, *alexnet.features*, is used to compute convolutional features, which are\n",
        "taken as input in *alexnet.classifier*.\n",
        "\n",
        "The neural network alexnet.features expects an image tensor of shape Nx3x224x224 as input and it will\n",
        "output a tensor of shape Nx256x6x6 . (N = batch size).\n",
        "\n",
        "Compute the AlexNet features for each of your training, validation, and test data. Here is an example code\n",
        "snippet showing how you can compute the AlexNet features for some images (your actual code might be\n",
        "different):"
      ]
    },
    {
      "cell_type": "code",
      "metadata": {
        "collapsed": true,
        "id": "oX7SjVdB7XAE"
      },
      "source": [
        "# img = ... a PyTorch tensor with shape [N,3,224,224] containing hand images ...\n",
        "#features = alexnet.features(img)"
      ],
      "execution_count": null,
      "outputs": []
    },
    {
      "cell_type": "markdown",
      "metadata": {
        "id": "DYcjHg_A7cCM"
      },
      "source": [
        "**Save the computed features**. You will be using these features as input to your neural network in Part\n",
        "(b), and you do not want to re-compute the features every time. Instead, run *alexnet.features* once for\n",
        "each image, and save the result."
      ]
    },
    {
      "cell_type": "code",
      "metadata": {
        "collapsed": true,
        "id": "TBo1BpL373LX"
      },
      "source": [
        "# Created a new folder where it is called AlexNet_Features \r\n",
        "\r\n",
        "new_main_dir = main_dir + '/Alex_Features'\r\n",
        "\r\n",
        "# Load all of the data such as training, validation and test\r\n",
        "train_loader = torch.utils.data.DataLoader(train_data, batch_size=1, num_workers=1, shuffle=True)\r\n",
        "val_loader = torch.utils.data.DataLoader(val_data, batch_size=1, num_workers=1, shuffle=True)\r\n",
        "test_loader = torch.utils.data.DataLoader(test_data, batch_size=1, num_workers=1, shuffle=True)\r\n",
        "small_loader = torch.utils.data.DataLoader(small_data, batch_size=1, num_workers=1, shuffle=True)\r\n",
        "\r\n",
        "# Create a function to save all the features into the folders \r\n",
        "def load_features(loader, new_main_dir, folder):\r\n",
        "  classes = ['A', 'B', 'C', 'D', 'E', 'F', 'G', 'H', 'I']\r\n",
        "\r\n",
        "  n = 0\r\n",
        "  for img, label in loader:\r\n",
        "    # Get the features of each image and transform to a tensor \r\n",
        "    feature = alexnet.features(img)\r\n",
        "    feature_tensor = torch.from_numpy(feature.detach().numpy())\r\n",
        "\r\n",
        "    # Save those features into folder \r\n",
        "    feature_dir = new_main_dir + '/' + str(folder) + '/' + str(classes[label])\r\n",
        "    if not os.path.isdir(feature_dir):\r\n",
        "      os.mkdir(feature_dir)\r\n",
        "    torch.save(feature_tensor.squeeze(0), feature_dir + '/' + str(n) + '.tensor')\r\n",
        "\r\n",
        "    n+=1\r\n",
        "\r\n",
        "  print(\"Features done for \", folder)\r\n"
      ],
      "execution_count": 103,
      "outputs": []
    },
    {
      "cell_type": "code",
      "metadata": {
        "colab": {
          "base_uri": "https://localhost:8080/"
        },
        "id": "575szVuQgBGe",
        "outputId": "f292597d-eca9-45a3-d787-aed0243a7d42"
      },
      "source": [
        "load_features(train_loader, new_main_dir, 'Train')\r\n",
        "load_features(val_loader,new_main_dir,'Validation')\r\n",
        "load_features(test_loader,new_main_dir,'Test')\r\n",
        "load_features(small_loader,new_main_dir,'Small')"
      ],
      "execution_count": 104,
      "outputs": [
        {
          "output_type": "stream",
          "text": [
            "Features done for  Train\n",
            "Features done for  Validation\n",
            "Features done for  Test\n",
            "Features done for  Small\n"
          ],
          "name": "stdout"
        }
      ]
    },
    {
      "cell_type": "markdown",
      "metadata": {
        "id": "OFWvvhFN73qY"
      },
      "source": [
        "### Part (b) - 3 pt\n",
        "Build a convolutional neural network model that takes as input these AlexNet features, and makes a\n",
        "prediction. Your model should be a subclass of nn.Module.\n",
        "\n",
        "Explain your choice of neural network architecture: how many layers did you choose? What types of layers\n",
        "did you use: fully-connected or convolutional? What about other decisions like pooling layers, activation\n",
        "functions, number of channels / hidden units in each layer?\n",
        "\n",
        "Here is an example of how your model may be called:"
      ]
    },
    {
      "cell_type": "code",
      "metadata": {
        "collapsed": true,
        "id": "oVTuHUeV78-U"
      },
      "source": [
        "# features = ... load precomputed alexnet.features(img) ...\n",
        "#output = model(features)\n",
        "#prob = F.softmax(output)"
      ],
      "execution_count": 58,
      "outputs": []
    },
    {
      "cell_type": "code",
      "metadata": {
        "id": "OEavy7zhnd5S"
      },
      "source": [
        "  #Convolutional Neural Network Architecture for Alex\r\n",
        "  class AlexClassifier(nn.Module):\r\n",
        "      def __init__(self):\r\n",
        "          self.name = \"AlexClassifier\"\r\n",
        "          super(AlexClassifier, self).__init__()\r\n",
        "          self.conv1 = nn.Conv2d(256, 100, 2) #in_channels, out_chanels, kernel_size \r\n",
        "          self.conv2 = nn.Conv2d(100, 10, 2) #in_channels, out_chanels, kernel_size\r\n",
        "          self.fc1 = nn.Linear(10*4*4, 30)\r\n",
        "          self.fc2 = nn.Linear(30, 9)\r\n",
        "\r\n",
        "      def forward(self, x):\r\n",
        "          x = F.relu(self.conv1(x))\r\n",
        "          x = F.relu(self.conv2(x))\r\n",
        "          x = x.view(-1, 10*4*4)\r\n",
        "          x = F.relu(self.fc1(x))\r\n",
        "          x = self.fc2(x)\r\n",
        "          return x"
      ],
      "execution_count": 105,
      "outputs": []
    },
    {
      "cell_type": "markdown",
      "metadata": {
        "id": "3uW-AS3pqIKC"
      },
      "source": [
        "**EXPLAINATION FOR 4b**\r\n",
        "\r\n",
        "I chose to have a simple CNN where I disregarded max pooling since the AlexNet features reduced the tensor to 256x6x6, so there was no need to make the image smaller. I kept two convolution layers because I found from part 3 that it generally gave best results, but with AlexNet features there was no need to have more than two conv2d filters to extract the features. I had two fully connected layers as well, with 30 hidden units. I chose to have the output channels to be at 100 for conv2d layer 1 and 10 for conv2d layer 2, with kernel size to be 2 since the image tensor was 256x6x6. AlexNet should be able to enhance the results for a simple CNN, since it was working relatively well in part 3. "
      ]
    },
    {
      "cell_type": "markdown",
      "metadata": {
        "id": "wVAGuURu7-9q"
      },
      "source": [
        "### Part (c) - 5 pt\n",
        "Train your new network, including any hyperparameter tuning. Plot and submit the training curve of your\n",
        "best model only.\n",
        "\n",
        "Note: Depending on how you are caching (saving) your AlexNet features, PyTorch might still be tracking\n",
        "updates to the **AlexNet weights**, which we are not tuning. One workaround is to convert your AlexNet\n",
        "feature tensor into a numpy array, and then back into a PyTorch tensor."
      ]
    },
    {
      "cell_type": "code",
      "metadata": {
        "collapsed": true,
        "id": "JCmiH11x7-q1"
      },
      "source": [
        "tensor = torch.from_numpy(tensor.detach().numpy())"
      ],
      "execution_count": null,
      "outputs": []
    },
    {
      "cell_type": "code",
      "metadata": {
        "id": "J6xVdpX1vN0a"
      },
      "source": [
        "# Get the path of the alexnet features \r\n",
        "train_alex_path = main_dir + '/Alex_Features/Train'\r\n",
        "val_alex_path = main_dir + '/Alex_Features/Validation'\r\n",
        "test_alex_path = main_dir + '/Alex_Features/Test'\r\n",
        "small_alex_path = main_dir + '/Alex_Features/Small'\r\n",
        "\r\n",
        "train_alex_data = torchvision.datasets.DatasetFolder(train_alex_path, loader=torch.load, extensions=('.tensor'))\r\n",
        "val_alex_data = torchvision.datasets.DatasetFolder(val_alex_path, loader=torch.load, extensions=('.tensor'))\r\n",
        "test_alex_data = torchvision.datasets.DatasetFolder(test_alex_path, loader=torch.load, extensions=('.tensor'))\r\n",
        "small_alex_data = torchvision.datasets.DatasetFolder(small_alex_path, loader=torch.load, extensions=('.tensor'))\r\n"
      ],
      "execution_count": 106,
      "outputs": []
    },
    {
      "cell_type": "code",
      "metadata": {
        "id": "zzH3yA1stCzQ"
      },
      "source": [
        "def trainAlex(model, batch_size=64, learning_rate=0.001, num_epochs=20):\r\n",
        "    torch.manual_seed(1000)\r\n",
        "    criterion = nn.CrossEntropyLoss()\r\n",
        "    optimizer = optim.Adam(model.parameters(), lr=learning_rate)\r\n",
        "\r\n",
        "    train_loader = torch.utils.data.DataLoader(train_alex_data, batch_size=batch_size, shuffle=True)\r\n",
        "    val_loader = torch.utils.data.DataLoader(val_alex_data, batch_size=batch_size, shuffle=True)\r\n",
        "\r\n",
        "    iters, losses, train_acc, val_acc = [], [], [], []\r\n",
        "\r\n",
        "    # training\r\n",
        "    n = 0 # the number of iterations\r\n",
        "    for epoch in range(num_epochs):\r\n",
        "        for imgs, labels in iter(train_loader):\r\n",
        "          \r\n",
        "          \r\n",
        "            #############################################\r\n",
        "            #To Enable GPU Usage\r\n",
        "            if use_cuda and torch.cuda.is_available():\r\n",
        "              #print(\"GPU is Available\")\r\n",
        "              imgs = imgs.cuda()\r\n",
        "              labels = labels.cuda()\r\n",
        "            #############################################\r\n",
        "            \r\n",
        "              \r\n",
        "            out = model(imgs)             # forward pass\r\n",
        "            loss = criterion(out, labels) # compute the total loss\r\n",
        "            loss.backward()               # backward pass (compute parameter updates)\r\n",
        "            optimizer.step()              # make the updates for each parameter\r\n",
        "            optimizer.zero_grad()         # a clean up step for PyTorch\r\n",
        "\r\n",
        "            # save the current training information\r\n",
        "            iters.append(n)\r\n",
        "            losses.append(float(loss)/batch_size)             # compute *average* loss\r\n",
        "            train_acc.append(get_accuracy(model, train_loader)) # compute training accuracy \r\n",
        "            val_acc.append(get_accuracy(model, val_loader))  # compute validation accuracy\r\n",
        "            print(\"epoch number: \", epoch+1, \"Training accuracy: \",train_acc[epoch], \"Validation accuracy: \", val_acc[epoch])\r\n",
        "            n += 1\r\n",
        "\r\n",
        "        # Print the accuracies of validation and training for each epoch to observe how it changes over time \r\n",
        "        #print(\"epoch = {}, Training Accuracy = {}, Validation Accuracy = {}\".format(epoch, train_acc[epoch], val_acc[epoch]))\r\n",
        "\r\n",
        "    # Save to a checkpoint \r\n",
        "    model_path = \"model_{0}_bs{1}_lr{2}_epoch{3}\".format(model.name,batch_size,learning_rate,epoch) \r\n",
        "    torch.save(model.state_dict(), model_path)       \r\n",
        "\r\n",
        "    # plotting\r\n",
        "    plt.title(\"Training Curve\")\r\n",
        "    plt.plot(iters, losses, label=\"Train\")\r\n",
        "    plt.xlabel(\"Iterations\")\r\n",
        "    plt.ylabel(\"Loss\")\r\n",
        "    plt.show()\r\n",
        "\r\n",
        "    plt.title(\"Training Curve\")\r\n",
        "    plt.plot(iters, train_acc, label=\"Train\")\r\n",
        "    plt.plot(iters, val_acc, label=\"Validation\")\r\n",
        "    plt.xlabel(\"Iterations\")\r\n",
        "    plt.ylabel(\"Training Accuracy\")\r\n",
        "    plt.legend(loc='best')\r\n",
        "    plt.show()\r\n",
        "\r\n",
        "    print(\"Final Training Accuracy: {}\".format(train_acc[-1]))\r\n",
        "    print(\"Final Validation Accuracy: {}\".format(val_acc[-1]))"
      ],
      "execution_count": 66,
      "outputs": []
    },
    {
      "cell_type": "code",
      "metadata": {
        "colab": {
          "base_uri": "https://localhost:8080/",
          "height": 1000
        },
        "id": "OwlmW6FfwmcH",
        "outputId": "917626f4-d6aa-458a-83db-92bd3a240b8a"
      },
      "source": [
        "# Use GPU\r\n",
        "use_cuda = True\r\n",
        "alex_model= AlexClassifier()\r\n",
        "\r\n",
        "if use_cuda and torch.cuda.is_available():\r\n",
        "  alex_model.cuda()\r\n",
        "  print('CUDA is available!  Training on GPU ...')\r\n",
        "else:\r\n",
        "  print('CUDA is not available.  Training on CPU ...')\r\n",
        "# Train using the features \r\n",
        "trainAlex(alex_model, batch_size=64, learning_rate=0.001, num_epochs=15)"
      ],
      "execution_count": 67,
      "outputs": [
        {
          "output_type": "stream",
          "text": [
            "CUDA is available!  Training on GPU ...\n",
            "epoch number:  1 Training accuracy:  0.11260330578512397 Validation accuracy:  0.11021505376344086\n",
            "epoch number:  1 Training accuracy:  0.11260330578512397 Validation accuracy:  0.11021505376344086\n",
            "epoch number:  1 Training accuracy:  0.11260330578512397 Validation accuracy:  0.11021505376344086\n",
            "epoch number:  1 Training accuracy:  0.11260330578512397 Validation accuracy:  0.11021505376344086\n",
            "epoch number:  1 Training accuracy:  0.11260330578512397 Validation accuracy:  0.11021505376344086\n",
            "epoch number:  1 Training accuracy:  0.11260330578512397 Validation accuracy:  0.11021505376344086\n",
            "epoch number:  1 Training accuracy:  0.11260330578512397 Validation accuracy:  0.11021505376344086\n",
            "epoch number:  1 Training accuracy:  0.11260330578512397 Validation accuracy:  0.11021505376344086\n",
            "epoch number:  1 Training accuracy:  0.11260330578512397 Validation accuracy:  0.11021505376344086\n",
            "epoch number:  1 Training accuracy:  0.11260330578512397 Validation accuracy:  0.11021505376344086\n",
            "epoch number:  1 Training accuracy:  0.11260330578512397 Validation accuracy:  0.11021505376344086\n",
            "epoch number:  1 Training accuracy:  0.11260330578512397 Validation accuracy:  0.11021505376344086\n",
            "epoch number:  1 Training accuracy:  0.11260330578512397 Validation accuracy:  0.11021505376344086\n",
            "epoch number:  1 Training accuracy:  0.11260330578512397 Validation accuracy:  0.11021505376344086\n",
            "epoch number:  1 Training accuracy:  0.11260330578512397 Validation accuracy:  0.11021505376344086\n",
            "epoch number:  1 Training accuracy:  0.11260330578512397 Validation accuracy:  0.11021505376344086\n",
            "epoch number:  1 Training accuracy:  0.11260330578512397 Validation accuracy:  0.11021505376344086\n",
            "epoch number:  1 Training accuracy:  0.11260330578512397 Validation accuracy:  0.11021505376344086\n",
            "epoch number:  1 Training accuracy:  0.11260330578512397 Validation accuracy:  0.11021505376344086\n",
            "epoch number:  1 Training accuracy:  0.11260330578512397 Validation accuracy:  0.11021505376344086\n",
            "epoch number:  1 Training accuracy:  0.11260330578512397 Validation accuracy:  0.11021505376344086\n",
            "epoch number:  1 Training accuracy:  0.11260330578512397 Validation accuracy:  0.11021505376344086\n",
            "epoch number:  1 Training accuracy:  0.11260330578512397 Validation accuracy:  0.11021505376344086\n",
            "epoch number:  1 Training accuracy:  0.11260330578512397 Validation accuracy:  0.11021505376344086\n",
            "epoch number:  1 Training accuracy:  0.11260330578512397 Validation accuracy:  0.11021505376344086\n",
            "epoch number:  1 Training accuracy:  0.11260330578512397 Validation accuracy:  0.11021505376344086\n",
            "epoch number:  1 Training accuracy:  0.11260330578512397 Validation accuracy:  0.11021505376344086\n",
            "epoch number:  1 Training accuracy:  0.11260330578512397 Validation accuracy:  0.11021505376344086\n",
            "epoch number:  1 Training accuracy:  0.11260330578512397 Validation accuracy:  0.11021505376344086\n",
            "epoch number:  1 Training accuracy:  0.11260330578512397 Validation accuracy:  0.11021505376344086\n",
            "epoch number:  1 Training accuracy:  0.11260330578512397 Validation accuracy:  0.11021505376344086\n",
            "epoch number:  2 Training accuracy:  0.11415289256198347 Validation accuracy:  0.11290322580645161\n",
            "epoch number:  2 Training accuracy:  0.11415289256198347 Validation accuracy:  0.11290322580645161\n",
            "epoch number:  2 Training accuracy:  0.11415289256198347 Validation accuracy:  0.11290322580645161\n",
            "epoch number:  2 Training accuracy:  0.11415289256198347 Validation accuracy:  0.11290322580645161\n",
            "epoch number:  2 Training accuracy:  0.11415289256198347 Validation accuracy:  0.11290322580645161\n",
            "epoch number:  2 Training accuracy:  0.11415289256198347 Validation accuracy:  0.11290322580645161\n",
            "epoch number:  2 Training accuracy:  0.11415289256198347 Validation accuracy:  0.11290322580645161\n",
            "epoch number:  2 Training accuracy:  0.11415289256198347 Validation accuracy:  0.11290322580645161\n",
            "epoch number:  2 Training accuracy:  0.11415289256198347 Validation accuracy:  0.11290322580645161\n",
            "epoch number:  2 Training accuracy:  0.11415289256198347 Validation accuracy:  0.11290322580645161\n",
            "epoch number:  2 Training accuracy:  0.11415289256198347 Validation accuracy:  0.11290322580645161\n",
            "epoch number:  2 Training accuracy:  0.11415289256198347 Validation accuracy:  0.11290322580645161\n",
            "epoch number:  2 Training accuracy:  0.11415289256198347 Validation accuracy:  0.11290322580645161\n",
            "epoch number:  2 Training accuracy:  0.11415289256198347 Validation accuracy:  0.11290322580645161\n",
            "epoch number:  2 Training accuracy:  0.11415289256198347 Validation accuracy:  0.11290322580645161\n",
            "epoch number:  2 Training accuracy:  0.11415289256198347 Validation accuracy:  0.11290322580645161\n",
            "epoch number:  2 Training accuracy:  0.11415289256198347 Validation accuracy:  0.11290322580645161\n",
            "epoch number:  2 Training accuracy:  0.11415289256198347 Validation accuracy:  0.11290322580645161\n",
            "epoch number:  2 Training accuracy:  0.11415289256198347 Validation accuracy:  0.11290322580645161\n",
            "epoch number:  2 Training accuracy:  0.11415289256198347 Validation accuracy:  0.11290322580645161\n",
            "epoch number:  2 Training accuracy:  0.11415289256198347 Validation accuracy:  0.11290322580645161\n",
            "epoch number:  2 Training accuracy:  0.11415289256198347 Validation accuracy:  0.11290322580645161\n",
            "epoch number:  2 Training accuracy:  0.11415289256198347 Validation accuracy:  0.11290322580645161\n",
            "epoch number:  2 Training accuracy:  0.11415289256198347 Validation accuracy:  0.11290322580645161\n",
            "epoch number:  2 Training accuracy:  0.11415289256198347 Validation accuracy:  0.11290322580645161\n",
            "epoch number:  2 Training accuracy:  0.11415289256198347 Validation accuracy:  0.11290322580645161\n",
            "epoch number:  2 Training accuracy:  0.11415289256198347 Validation accuracy:  0.11290322580645161\n",
            "epoch number:  2 Training accuracy:  0.11415289256198347 Validation accuracy:  0.11290322580645161\n",
            "epoch number:  2 Training accuracy:  0.11415289256198347 Validation accuracy:  0.11290322580645161\n",
            "epoch number:  2 Training accuracy:  0.11415289256198347 Validation accuracy:  0.11290322580645161\n",
            "epoch number:  2 Training accuracy:  0.11415289256198347 Validation accuracy:  0.11290322580645161\n",
            "epoch number:  3 Training accuracy:  0.11415289256198347 Validation accuracy:  0.11290322580645161\n",
            "epoch number:  3 Training accuracy:  0.11415289256198347 Validation accuracy:  0.11290322580645161\n",
            "epoch number:  3 Training accuracy:  0.11415289256198347 Validation accuracy:  0.11290322580645161\n",
            "epoch number:  3 Training accuracy:  0.11415289256198347 Validation accuracy:  0.11290322580645161\n",
            "epoch number:  3 Training accuracy:  0.11415289256198347 Validation accuracy:  0.11290322580645161\n",
            "epoch number:  3 Training accuracy:  0.11415289256198347 Validation accuracy:  0.11290322580645161\n",
            "epoch number:  3 Training accuracy:  0.11415289256198347 Validation accuracy:  0.11290322580645161\n",
            "epoch number:  3 Training accuracy:  0.11415289256198347 Validation accuracy:  0.11290322580645161\n",
            "epoch number:  3 Training accuracy:  0.11415289256198347 Validation accuracy:  0.11290322580645161\n",
            "epoch number:  3 Training accuracy:  0.11415289256198347 Validation accuracy:  0.11290322580645161\n",
            "epoch number:  3 Training accuracy:  0.11415289256198347 Validation accuracy:  0.11290322580645161\n",
            "epoch number:  3 Training accuracy:  0.11415289256198347 Validation accuracy:  0.11290322580645161\n",
            "epoch number:  3 Training accuracy:  0.11415289256198347 Validation accuracy:  0.11290322580645161\n",
            "epoch number:  3 Training accuracy:  0.11415289256198347 Validation accuracy:  0.11290322580645161\n",
            "epoch number:  3 Training accuracy:  0.11415289256198347 Validation accuracy:  0.11290322580645161\n",
            "epoch number:  3 Training accuracy:  0.11415289256198347 Validation accuracy:  0.11290322580645161\n",
            "epoch number:  3 Training accuracy:  0.11415289256198347 Validation accuracy:  0.11290322580645161\n",
            "epoch number:  3 Training accuracy:  0.11415289256198347 Validation accuracy:  0.11290322580645161\n",
            "epoch number:  3 Training accuracy:  0.11415289256198347 Validation accuracy:  0.11290322580645161\n",
            "epoch number:  3 Training accuracy:  0.11415289256198347 Validation accuracy:  0.11290322580645161\n",
            "epoch number:  3 Training accuracy:  0.11415289256198347 Validation accuracy:  0.11290322580645161\n",
            "epoch number:  3 Training accuracy:  0.11415289256198347 Validation accuracy:  0.11290322580645161\n",
            "epoch number:  3 Training accuracy:  0.11415289256198347 Validation accuracy:  0.11290322580645161\n",
            "epoch number:  3 Training accuracy:  0.11415289256198347 Validation accuracy:  0.11290322580645161\n",
            "epoch number:  3 Training accuracy:  0.11415289256198347 Validation accuracy:  0.11290322580645161\n",
            "epoch number:  3 Training accuracy:  0.11415289256198347 Validation accuracy:  0.11290322580645161\n",
            "epoch number:  3 Training accuracy:  0.11415289256198347 Validation accuracy:  0.11290322580645161\n",
            "epoch number:  3 Training accuracy:  0.11415289256198347 Validation accuracy:  0.11290322580645161\n",
            "epoch number:  3 Training accuracy:  0.11415289256198347 Validation accuracy:  0.11290322580645161\n",
            "epoch number:  3 Training accuracy:  0.11415289256198347 Validation accuracy:  0.11290322580645161\n",
            "epoch number:  3 Training accuracy:  0.11415289256198347 Validation accuracy:  0.11290322580645161\n",
            "epoch number:  4 Training accuracy:  0.11415289256198347 Validation accuracy:  0.11290322580645161\n",
            "epoch number:  4 Training accuracy:  0.11415289256198347 Validation accuracy:  0.11290322580645161\n",
            "epoch number:  4 Training accuracy:  0.11415289256198347 Validation accuracy:  0.11290322580645161\n",
            "epoch number:  4 Training accuracy:  0.11415289256198347 Validation accuracy:  0.11290322580645161\n",
            "epoch number:  4 Training accuracy:  0.11415289256198347 Validation accuracy:  0.11290322580645161\n",
            "epoch number:  4 Training accuracy:  0.11415289256198347 Validation accuracy:  0.11290322580645161\n",
            "epoch number:  4 Training accuracy:  0.11415289256198347 Validation accuracy:  0.11290322580645161\n",
            "epoch number:  4 Training accuracy:  0.11415289256198347 Validation accuracy:  0.11290322580645161\n",
            "epoch number:  4 Training accuracy:  0.11415289256198347 Validation accuracy:  0.11290322580645161\n",
            "epoch number:  4 Training accuracy:  0.11415289256198347 Validation accuracy:  0.11290322580645161\n",
            "epoch number:  4 Training accuracy:  0.11415289256198347 Validation accuracy:  0.11290322580645161\n",
            "epoch number:  4 Training accuracy:  0.11415289256198347 Validation accuracy:  0.11290322580645161\n",
            "epoch number:  4 Training accuracy:  0.11415289256198347 Validation accuracy:  0.11290322580645161\n",
            "epoch number:  4 Training accuracy:  0.11415289256198347 Validation accuracy:  0.11290322580645161\n",
            "epoch number:  4 Training accuracy:  0.11415289256198347 Validation accuracy:  0.11290322580645161\n",
            "epoch number:  4 Training accuracy:  0.11415289256198347 Validation accuracy:  0.11290322580645161\n",
            "epoch number:  4 Training accuracy:  0.11415289256198347 Validation accuracy:  0.11290322580645161\n",
            "epoch number:  4 Training accuracy:  0.11415289256198347 Validation accuracy:  0.11290322580645161\n",
            "epoch number:  4 Training accuracy:  0.11415289256198347 Validation accuracy:  0.11290322580645161\n",
            "epoch number:  4 Training accuracy:  0.11415289256198347 Validation accuracy:  0.11290322580645161\n",
            "epoch number:  4 Training accuracy:  0.11415289256198347 Validation accuracy:  0.11290322580645161\n",
            "epoch number:  4 Training accuracy:  0.11415289256198347 Validation accuracy:  0.11290322580645161\n",
            "epoch number:  4 Training accuracy:  0.11415289256198347 Validation accuracy:  0.11290322580645161\n",
            "epoch number:  4 Training accuracy:  0.11415289256198347 Validation accuracy:  0.11290322580645161\n",
            "epoch number:  4 Training accuracy:  0.11415289256198347 Validation accuracy:  0.11290322580645161\n",
            "epoch number:  4 Training accuracy:  0.11415289256198347 Validation accuracy:  0.11290322580645161\n",
            "epoch number:  4 Training accuracy:  0.11415289256198347 Validation accuracy:  0.11290322580645161\n",
            "epoch number:  4 Training accuracy:  0.11415289256198347 Validation accuracy:  0.11290322580645161\n",
            "epoch number:  4 Training accuracy:  0.11415289256198347 Validation accuracy:  0.11290322580645161\n",
            "epoch number:  4 Training accuracy:  0.11415289256198347 Validation accuracy:  0.11290322580645161\n",
            "epoch number:  4 Training accuracy:  0.11415289256198347 Validation accuracy:  0.11290322580645161\n",
            "epoch number:  5 Training accuracy:  0.11466942148760331 Validation accuracy:  0.11290322580645161\n",
            "epoch number:  5 Training accuracy:  0.11466942148760331 Validation accuracy:  0.11290322580645161\n",
            "epoch number:  5 Training accuracy:  0.11466942148760331 Validation accuracy:  0.11290322580645161\n",
            "epoch number:  5 Training accuracy:  0.11466942148760331 Validation accuracy:  0.11290322580645161\n",
            "epoch number:  5 Training accuracy:  0.11466942148760331 Validation accuracy:  0.11290322580645161\n",
            "epoch number:  5 Training accuracy:  0.11466942148760331 Validation accuracy:  0.11290322580645161\n",
            "epoch number:  5 Training accuracy:  0.11466942148760331 Validation accuracy:  0.11290322580645161\n",
            "epoch number:  5 Training accuracy:  0.11466942148760331 Validation accuracy:  0.11290322580645161\n",
            "epoch number:  5 Training accuracy:  0.11466942148760331 Validation accuracy:  0.11290322580645161\n",
            "epoch number:  5 Training accuracy:  0.11466942148760331 Validation accuracy:  0.11290322580645161\n",
            "epoch number:  5 Training accuracy:  0.11466942148760331 Validation accuracy:  0.11290322580645161\n",
            "epoch number:  5 Training accuracy:  0.11466942148760331 Validation accuracy:  0.11290322580645161\n",
            "epoch number:  5 Training accuracy:  0.11466942148760331 Validation accuracy:  0.11290322580645161\n",
            "epoch number:  5 Training accuracy:  0.11466942148760331 Validation accuracy:  0.11290322580645161\n",
            "epoch number:  5 Training accuracy:  0.11466942148760331 Validation accuracy:  0.11290322580645161\n",
            "epoch number:  5 Training accuracy:  0.11466942148760331 Validation accuracy:  0.11290322580645161\n",
            "epoch number:  5 Training accuracy:  0.11466942148760331 Validation accuracy:  0.11290322580645161\n",
            "epoch number:  5 Training accuracy:  0.11466942148760331 Validation accuracy:  0.11290322580645161\n",
            "epoch number:  5 Training accuracy:  0.11466942148760331 Validation accuracy:  0.11290322580645161\n",
            "epoch number:  5 Training accuracy:  0.11466942148760331 Validation accuracy:  0.11290322580645161\n",
            "epoch number:  5 Training accuracy:  0.11466942148760331 Validation accuracy:  0.11290322580645161\n",
            "epoch number:  5 Training accuracy:  0.11466942148760331 Validation accuracy:  0.11290322580645161\n",
            "epoch number:  5 Training accuracy:  0.11466942148760331 Validation accuracy:  0.11290322580645161\n",
            "epoch number:  5 Training accuracy:  0.11466942148760331 Validation accuracy:  0.11290322580645161\n",
            "epoch number:  5 Training accuracy:  0.11466942148760331 Validation accuracy:  0.11290322580645161\n",
            "epoch number:  5 Training accuracy:  0.11466942148760331 Validation accuracy:  0.11290322580645161\n",
            "epoch number:  5 Training accuracy:  0.11466942148760331 Validation accuracy:  0.11290322580645161\n",
            "epoch number:  5 Training accuracy:  0.11466942148760331 Validation accuracy:  0.11290322580645161\n",
            "epoch number:  5 Training accuracy:  0.11466942148760331 Validation accuracy:  0.11290322580645161\n",
            "epoch number:  5 Training accuracy:  0.11466942148760331 Validation accuracy:  0.11290322580645161\n",
            "epoch number:  5 Training accuracy:  0.11466942148760331 Validation accuracy:  0.11290322580645161\n",
            "epoch number:  6 Training accuracy:  0.11725206611570248 Validation accuracy:  0.11290322580645161\n",
            "epoch number:  6 Training accuracy:  0.11725206611570248 Validation accuracy:  0.11290322580645161\n",
            "epoch number:  6 Training accuracy:  0.11725206611570248 Validation accuracy:  0.11290322580645161\n",
            "epoch number:  6 Training accuracy:  0.11725206611570248 Validation accuracy:  0.11290322580645161\n",
            "epoch number:  6 Training accuracy:  0.11725206611570248 Validation accuracy:  0.11290322580645161\n",
            "epoch number:  6 Training accuracy:  0.11725206611570248 Validation accuracy:  0.11290322580645161\n",
            "epoch number:  6 Training accuracy:  0.11725206611570248 Validation accuracy:  0.11290322580645161\n",
            "epoch number:  6 Training accuracy:  0.11725206611570248 Validation accuracy:  0.11290322580645161\n",
            "epoch number:  6 Training accuracy:  0.11725206611570248 Validation accuracy:  0.11290322580645161\n",
            "epoch number:  6 Training accuracy:  0.11725206611570248 Validation accuracy:  0.11290322580645161\n",
            "epoch number:  6 Training accuracy:  0.11725206611570248 Validation accuracy:  0.11290322580645161\n",
            "epoch number:  6 Training accuracy:  0.11725206611570248 Validation accuracy:  0.11290322580645161\n",
            "epoch number:  6 Training accuracy:  0.11725206611570248 Validation accuracy:  0.11290322580645161\n",
            "epoch number:  6 Training accuracy:  0.11725206611570248 Validation accuracy:  0.11290322580645161\n",
            "epoch number:  6 Training accuracy:  0.11725206611570248 Validation accuracy:  0.11290322580645161\n",
            "epoch number:  6 Training accuracy:  0.11725206611570248 Validation accuracy:  0.11290322580645161\n",
            "epoch number:  6 Training accuracy:  0.11725206611570248 Validation accuracy:  0.11290322580645161\n",
            "epoch number:  6 Training accuracy:  0.11725206611570248 Validation accuracy:  0.11290322580645161\n",
            "epoch number:  6 Training accuracy:  0.11725206611570248 Validation accuracy:  0.11290322580645161\n",
            "epoch number:  6 Training accuracy:  0.11725206611570248 Validation accuracy:  0.11290322580645161\n",
            "epoch number:  6 Training accuracy:  0.11725206611570248 Validation accuracy:  0.11290322580645161\n",
            "epoch number:  6 Training accuracy:  0.11725206611570248 Validation accuracy:  0.11290322580645161\n",
            "epoch number:  6 Training accuracy:  0.11725206611570248 Validation accuracy:  0.11290322580645161\n",
            "epoch number:  6 Training accuracy:  0.11725206611570248 Validation accuracy:  0.11290322580645161\n",
            "epoch number:  6 Training accuracy:  0.11725206611570248 Validation accuracy:  0.11290322580645161\n",
            "epoch number:  6 Training accuracy:  0.11725206611570248 Validation accuracy:  0.11290322580645161\n",
            "epoch number:  6 Training accuracy:  0.11725206611570248 Validation accuracy:  0.11290322580645161\n",
            "epoch number:  6 Training accuracy:  0.11725206611570248 Validation accuracy:  0.11290322580645161\n",
            "epoch number:  6 Training accuracy:  0.11725206611570248 Validation accuracy:  0.11290322580645161\n",
            "epoch number:  6 Training accuracy:  0.11725206611570248 Validation accuracy:  0.11290322580645161\n",
            "epoch number:  6 Training accuracy:  0.11725206611570248 Validation accuracy:  0.11290322580645161\n",
            "epoch number:  7 Training accuracy:  0.13429752066115702 Validation accuracy:  0.12634408602150538\n",
            "epoch number:  7 Training accuracy:  0.13429752066115702 Validation accuracy:  0.12634408602150538\n",
            "epoch number:  7 Training accuracy:  0.13429752066115702 Validation accuracy:  0.12634408602150538\n",
            "epoch number:  7 Training accuracy:  0.13429752066115702 Validation accuracy:  0.12634408602150538\n",
            "epoch number:  7 Training accuracy:  0.13429752066115702 Validation accuracy:  0.12634408602150538\n",
            "epoch number:  7 Training accuracy:  0.13429752066115702 Validation accuracy:  0.12634408602150538\n",
            "epoch number:  7 Training accuracy:  0.13429752066115702 Validation accuracy:  0.12634408602150538\n",
            "epoch number:  7 Training accuracy:  0.13429752066115702 Validation accuracy:  0.12634408602150538\n",
            "epoch number:  7 Training accuracy:  0.13429752066115702 Validation accuracy:  0.12634408602150538\n",
            "epoch number:  7 Training accuracy:  0.13429752066115702 Validation accuracy:  0.12634408602150538\n",
            "epoch number:  7 Training accuracy:  0.13429752066115702 Validation accuracy:  0.12634408602150538\n",
            "epoch number:  7 Training accuracy:  0.13429752066115702 Validation accuracy:  0.12634408602150538\n",
            "epoch number:  7 Training accuracy:  0.13429752066115702 Validation accuracy:  0.12634408602150538\n",
            "epoch number:  7 Training accuracy:  0.13429752066115702 Validation accuracy:  0.12634408602150538\n",
            "epoch number:  7 Training accuracy:  0.13429752066115702 Validation accuracy:  0.12634408602150538\n",
            "epoch number:  7 Training accuracy:  0.13429752066115702 Validation accuracy:  0.12634408602150538\n",
            "epoch number:  7 Training accuracy:  0.13429752066115702 Validation accuracy:  0.12634408602150538\n",
            "epoch number:  7 Training accuracy:  0.13429752066115702 Validation accuracy:  0.12634408602150538\n",
            "epoch number:  7 Training accuracy:  0.13429752066115702 Validation accuracy:  0.12634408602150538\n",
            "epoch number:  7 Training accuracy:  0.13429752066115702 Validation accuracy:  0.12634408602150538\n",
            "epoch number:  7 Training accuracy:  0.13429752066115702 Validation accuracy:  0.12634408602150538\n",
            "epoch number:  7 Training accuracy:  0.13429752066115702 Validation accuracy:  0.12634408602150538\n",
            "epoch number:  7 Training accuracy:  0.13429752066115702 Validation accuracy:  0.12634408602150538\n",
            "epoch number:  7 Training accuracy:  0.13429752066115702 Validation accuracy:  0.12634408602150538\n",
            "epoch number:  7 Training accuracy:  0.13429752066115702 Validation accuracy:  0.12634408602150538\n",
            "epoch number:  7 Training accuracy:  0.13429752066115702 Validation accuracy:  0.12634408602150538\n",
            "epoch number:  7 Training accuracy:  0.13429752066115702 Validation accuracy:  0.12634408602150538\n",
            "epoch number:  7 Training accuracy:  0.13429752066115702 Validation accuracy:  0.12634408602150538\n",
            "epoch number:  7 Training accuracy:  0.13429752066115702 Validation accuracy:  0.12634408602150538\n",
            "epoch number:  7 Training accuracy:  0.13429752066115702 Validation accuracy:  0.12634408602150538\n",
            "epoch number:  7 Training accuracy:  0.13429752066115702 Validation accuracy:  0.12634408602150538\n",
            "epoch number:  8 Training accuracy:  0.1327479338842975 Validation accuracy:  0.12634408602150538\n",
            "epoch number:  8 Training accuracy:  0.1327479338842975 Validation accuracy:  0.12634408602150538\n",
            "epoch number:  8 Training accuracy:  0.1327479338842975 Validation accuracy:  0.12634408602150538\n",
            "epoch number:  8 Training accuracy:  0.1327479338842975 Validation accuracy:  0.12634408602150538\n",
            "epoch number:  8 Training accuracy:  0.1327479338842975 Validation accuracy:  0.12634408602150538\n",
            "epoch number:  8 Training accuracy:  0.1327479338842975 Validation accuracy:  0.12634408602150538\n",
            "epoch number:  8 Training accuracy:  0.1327479338842975 Validation accuracy:  0.12634408602150538\n",
            "epoch number:  8 Training accuracy:  0.1327479338842975 Validation accuracy:  0.12634408602150538\n",
            "epoch number:  8 Training accuracy:  0.1327479338842975 Validation accuracy:  0.12634408602150538\n",
            "epoch number:  8 Training accuracy:  0.1327479338842975 Validation accuracy:  0.12634408602150538\n",
            "epoch number:  8 Training accuracy:  0.1327479338842975 Validation accuracy:  0.12634408602150538\n",
            "epoch number:  8 Training accuracy:  0.1327479338842975 Validation accuracy:  0.12634408602150538\n",
            "epoch number:  8 Training accuracy:  0.1327479338842975 Validation accuracy:  0.12634408602150538\n",
            "epoch number:  8 Training accuracy:  0.1327479338842975 Validation accuracy:  0.12634408602150538\n",
            "epoch number:  8 Training accuracy:  0.1327479338842975 Validation accuracy:  0.12634408602150538\n",
            "epoch number:  8 Training accuracy:  0.1327479338842975 Validation accuracy:  0.12634408602150538\n",
            "epoch number:  8 Training accuracy:  0.1327479338842975 Validation accuracy:  0.12634408602150538\n",
            "epoch number:  8 Training accuracy:  0.1327479338842975 Validation accuracy:  0.12634408602150538\n",
            "epoch number:  8 Training accuracy:  0.1327479338842975 Validation accuracy:  0.12634408602150538\n",
            "epoch number:  8 Training accuracy:  0.1327479338842975 Validation accuracy:  0.12634408602150538\n",
            "epoch number:  8 Training accuracy:  0.1327479338842975 Validation accuracy:  0.12634408602150538\n",
            "epoch number:  8 Training accuracy:  0.1327479338842975 Validation accuracy:  0.12634408602150538\n",
            "epoch number:  8 Training accuracy:  0.1327479338842975 Validation accuracy:  0.12634408602150538\n",
            "epoch number:  8 Training accuracy:  0.1327479338842975 Validation accuracy:  0.12634408602150538\n",
            "epoch number:  8 Training accuracy:  0.1327479338842975 Validation accuracy:  0.12634408602150538\n",
            "epoch number:  8 Training accuracy:  0.1327479338842975 Validation accuracy:  0.12634408602150538\n",
            "epoch number:  8 Training accuracy:  0.1327479338842975 Validation accuracy:  0.12634408602150538\n",
            "epoch number:  8 Training accuracy:  0.1327479338842975 Validation accuracy:  0.12634408602150538\n",
            "epoch number:  8 Training accuracy:  0.1327479338842975 Validation accuracy:  0.12634408602150538\n",
            "epoch number:  8 Training accuracy:  0.1327479338842975 Validation accuracy:  0.12634408602150538\n",
            "epoch number:  8 Training accuracy:  0.1327479338842975 Validation accuracy:  0.12634408602150538\n",
            "epoch number:  9 Training accuracy:  0.12551652892561985 Validation accuracy:  0.11827956989247312\n",
            "epoch number:  9 Training accuracy:  0.12551652892561985 Validation accuracy:  0.11827956989247312\n",
            "epoch number:  9 Training accuracy:  0.12551652892561985 Validation accuracy:  0.11827956989247312\n",
            "epoch number:  9 Training accuracy:  0.12551652892561985 Validation accuracy:  0.11827956989247312\n",
            "epoch number:  9 Training accuracy:  0.12551652892561985 Validation accuracy:  0.11827956989247312\n",
            "epoch number:  9 Training accuracy:  0.12551652892561985 Validation accuracy:  0.11827956989247312\n",
            "epoch number:  9 Training accuracy:  0.12551652892561985 Validation accuracy:  0.11827956989247312\n",
            "epoch number:  9 Training accuracy:  0.12551652892561985 Validation accuracy:  0.11827956989247312\n",
            "epoch number:  9 Training accuracy:  0.12551652892561985 Validation accuracy:  0.11827956989247312\n",
            "epoch number:  9 Training accuracy:  0.12551652892561985 Validation accuracy:  0.11827956989247312\n",
            "epoch number:  9 Training accuracy:  0.12551652892561985 Validation accuracy:  0.11827956989247312\n",
            "epoch number:  9 Training accuracy:  0.12551652892561985 Validation accuracy:  0.11827956989247312\n",
            "epoch number:  9 Training accuracy:  0.12551652892561985 Validation accuracy:  0.11827956989247312\n",
            "epoch number:  9 Training accuracy:  0.12551652892561985 Validation accuracy:  0.11827956989247312\n",
            "epoch number:  9 Training accuracy:  0.12551652892561985 Validation accuracy:  0.11827956989247312\n",
            "epoch number:  9 Training accuracy:  0.12551652892561985 Validation accuracy:  0.11827956989247312\n",
            "epoch number:  9 Training accuracy:  0.12551652892561985 Validation accuracy:  0.11827956989247312\n",
            "epoch number:  9 Training accuracy:  0.12551652892561985 Validation accuracy:  0.11827956989247312\n",
            "epoch number:  9 Training accuracy:  0.12551652892561985 Validation accuracy:  0.11827956989247312\n",
            "epoch number:  9 Training accuracy:  0.12551652892561985 Validation accuracy:  0.11827956989247312\n",
            "epoch number:  9 Training accuracy:  0.12551652892561985 Validation accuracy:  0.11827956989247312\n",
            "epoch number:  9 Training accuracy:  0.12551652892561985 Validation accuracy:  0.11827956989247312\n",
            "epoch number:  9 Training accuracy:  0.12551652892561985 Validation accuracy:  0.11827956989247312\n",
            "epoch number:  9 Training accuracy:  0.12551652892561985 Validation accuracy:  0.11827956989247312\n",
            "epoch number:  9 Training accuracy:  0.12551652892561985 Validation accuracy:  0.11827956989247312\n",
            "epoch number:  9 Training accuracy:  0.12551652892561985 Validation accuracy:  0.11827956989247312\n",
            "epoch number:  9 Training accuracy:  0.12551652892561985 Validation accuracy:  0.11827956989247312\n",
            "epoch number:  9 Training accuracy:  0.12551652892561985 Validation accuracy:  0.11827956989247312\n",
            "epoch number:  9 Training accuracy:  0.12551652892561985 Validation accuracy:  0.11827956989247312\n",
            "epoch number:  9 Training accuracy:  0.12551652892561985 Validation accuracy:  0.11827956989247312\n",
            "epoch number:  9 Training accuracy:  0.12551652892561985 Validation accuracy:  0.11827956989247312\n",
            "epoch number:  10 Training accuracy:  0.14617768595041322 Validation accuracy:  0.13709677419354838\n",
            "epoch number:  10 Training accuracy:  0.14617768595041322 Validation accuracy:  0.13709677419354838\n",
            "epoch number:  10 Training accuracy:  0.14617768595041322 Validation accuracy:  0.13709677419354838\n",
            "epoch number:  10 Training accuracy:  0.14617768595041322 Validation accuracy:  0.13709677419354838\n",
            "epoch number:  10 Training accuracy:  0.14617768595041322 Validation accuracy:  0.13709677419354838\n",
            "epoch number:  10 Training accuracy:  0.14617768595041322 Validation accuracy:  0.13709677419354838\n",
            "epoch number:  10 Training accuracy:  0.14617768595041322 Validation accuracy:  0.13709677419354838\n",
            "epoch number:  10 Training accuracy:  0.14617768595041322 Validation accuracy:  0.13709677419354838\n",
            "epoch number:  10 Training accuracy:  0.14617768595041322 Validation accuracy:  0.13709677419354838\n",
            "epoch number:  10 Training accuracy:  0.14617768595041322 Validation accuracy:  0.13709677419354838\n",
            "epoch number:  10 Training accuracy:  0.14617768595041322 Validation accuracy:  0.13709677419354838\n",
            "epoch number:  10 Training accuracy:  0.14617768595041322 Validation accuracy:  0.13709677419354838\n",
            "epoch number:  10 Training accuracy:  0.14617768595041322 Validation accuracy:  0.13709677419354838\n",
            "epoch number:  10 Training accuracy:  0.14617768595041322 Validation accuracy:  0.13709677419354838\n",
            "epoch number:  10 Training accuracy:  0.14617768595041322 Validation accuracy:  0.13709677419354838\n",
            "epoch number:  10 Training accuracy:  0.14617768595041322 Validation accuracy:  0.13709677419354838\n",
            "epoch number:  10 Training accuracy:  0.14617768595041322 Validation accuracy:  0.13709677419354838\n",
            "epoch number:  10 Training accuracy:  0.14617768595041322 Validation accuracy:  0.13709677419354838\n",
            "epoch number:  10 Training accuracy:  0.14617768595041322 Validation accuracy:  0.13709677419354838\n",
            "epoch number:  10 Training accuracy:  0.14617768595041322 Validation accuracy:  0.13709677419354838\n",
            "epoch number:  10 Training accuracy:  0.14617768595041322 Validation accuracy:  0.13709677419354838\n",
            "epoch number:  10 Training accuracy:  0.14617768595041322 Validation accuracy:  0.13709677419354838\n",
            "epoch number:  10 Training accuracy:  0.14617768595041322 Validation accuracy:  0.13709677419354838\n",
            "epoch number:  10 Training accuracy:  0.14617768595041322 Validation accuracy:  0.13709677419354838\n",
            "epoch number:  10 Training accuracy:  0.14617768595041322 Validation accuracy:  0.13709677419354838\n",
            "epoch number:  10 Training accuracy:  0.14617768595041322 Validation accuracy:  0.13709677419354838\n",
            "epoch number:  10 Training accuracy:  0.14617768595041322 Validation accuracy:  0.13709677419354838\n",
            "epoch number:  10 Training accuracy:  0.14617768595041322 Validation accuracy:  0.13709677419354838\n",
            "epoch number:  10 Training accuracy:  0.14617768595041322 Validation accuracy:  0.13709677419354838\n",
            "epoch number:  10 Training accuracy:  0.14617768595041322 Validation accuracy:  0.13709677419354838\n",
            "epoch number:  10 Training accuracy:  0.14617768595041322 Validation accuracy:  0.13709677419354838\n",
            "epoch number:  11 Training accuracy:  0.23243801652892562 Validation accuracy:  0.260752688172043\n",
            "epoch number:  11 Training accuracy:  0.23243801652892562 Validation accuracy:  0.260752688172043\n",
            "epoch number:  11 Training accuracy:  0.23243801652892562 Validation accuracy:  0.260752688172043\n",
            "epoch number:  11 Training accuracy:  0.23243801652892562 Validation accuracy:  0.260752688172043\n",
            "epoch number:  11 Training accuracy:  0.23243801652892562 Validation accuracy:  0.260752688172043\n",
            "epoch number:  11 Training accuracy:  0.23243801652892562 Validation accuracy:  0.260752688172043\n",
            "epoch number:  11 Training accuracy:  0.23243801652892562 Validation accuracy:  0.260752688172043\n",
            "epoch number:  11 Training accuracy:  0.23243801652892562 Validation accuracy:  0.260752688172043\n",
            "epoch number:  11 Training accuracy:  0.23243801652892562 Validation accuracy:  0.260752688172043\n",
            "epoch number:  11 Training accuracy:  0.23243801652892562 Validation accuracy:  0.260752688172043\n",
            "epoch number:  11 Training accuracy:  0.23243801652892562 Validation accuracy:  0.260752688172043\n",
            "epoch number:  11 Training accuracy:  0.23243801652892562 Validation accuracy:  0.260752688172043\n",
            "epoch number:  11 Training accuracy:  0.23243801652892562 Validation accuracy:  0.260752688172043\n",
            "epoch number:  11 Training accuracy:  0.23243801652892562 Validation accuracy:  0.260752688172043\n",
            "epoch number:  11 Training accuracy:  0.23243801652892562 Validation accuracy:  0.260752688172043\n",
            "epoch number:  11 Training accuracy:  0.23243801652892562 Validation accuracy:  0.260752688172043\n",
            "epoch number:  11 Training accuracy:  0.23243801652892562 Validation accuracy:  0.260752688172043\n",
            "epoch number:  11 Training accuracy:  0.23243801652892562 Validation accuracy:  0.260752688172043\n",
            "epoch number:  11 Training accuracy:  0.23243801652892562 Validation accuracy:  0.260752688172043\n",
            "epoch number:  11 Training accuracy:  0.23243801652892562 Validation accuracy:  0.260752688172043\n",
            "epoch number:  11 Training accuracy:  0.23243801652892562 Validation accuracy:  0.260752688172043\n",
            "epoch number:  11 Training accuracy:  0.23243801652892562 Validation accuracy:  0.260752688172043\n",
            "epoch number:  11 Training accuracy:  0.23243801652892562 Validation accuracy:  0.260752688172043\n",
            "epoch number:  11 Training accuracy:  0.23243801652892562 Validation accuracy:  0.260752688172043\n",
            "epoch number:  11 Training accuracy:  0.23243801652892562 Validation accuracy:  0.260752688172043\n",
            "epoch number:  11 Training accuracy:  0.23243801652892562 Validation accuracy:  0.260752688172043\n",
            "epoch number:  11 Training accuracy:  0.23243801652892562 Validation accuracy:  0.260752688172043\n",
            "epoch number:  11 Training accuracy:  0.23243801652892562 Validation accuracy:  0.260752688172043\n",
            "epoch number:  11 Training accuracy:  0.23243801652892562 Validation accuracy:  0.260752688172043\n",
            "epoch number:  11 Training accuracy:  0.23243801652892562 Validation accuracy:  0.260752688172043\n",
            "epoch number:  11 Training accuracy:  0.23243801652892562 Validation accuracy:  0.260752688172043\n",
            "epoch number:  12 Training accuracy:  0.3352272727272727 Validation accuracy:  0.3736559139784946\n",
            "epoch number:  12 Training accuracy:  0.3352272727272727 Validation accuracy:  0.3736559139784946\n",
            "epoch number:  12 Training accuracy:  0.3352272727272727 Validation accuracy:  0.3736559139784946\n",
            "epoch number:  12 Training accuracy:  0.3352272727272727 Validation accuracy:  0.3736559139784946\n",
            "epoch number:  12 Training accuracy:  0.3352272727272727 Validation accuracy:  0.3736559139784946\n",
            "epoch number:  12 Training accuracy:  0.3352272727272727 Validation accuracy:  0.3736559139784946\n",
            "epoch number:  12 Training accuracy:  0.3352272727272727 Validation accuracy:  0.3736559139784946\n",
            "epoch number:  12 Training accuracy:  0.3352272727272727 Validation accuracy:  0.3736559139784946\n",
            "epoch number:  12 Training accuracy:  0.3352272727272727 Validation accuracy:  0.3736559139784946\n",
            "epoch number:  12 Training accuracy:  0.3352272727272727 Validation accuracy:  0.3736559139784946\n",
            "epoch number:  12 Training accuracy:  0.3352272727272727 Validation accuracy:  0.3736559139784946\n",
            "epoch number:  12 Training accuracy:  0.3352272727272727 Validation accuracy:  0.3736559139784946\n",
            "epoch number:  12 Training accuracy:  0.3352272727272727 Validation accuracy:  0.3736559139784946\n",
            "epoch number:  12 Training accuracy:  0.3352272727272727 Validation accuracy:  0.3736559139784946\n",
            "epoch number:  12 Training accuracy:  0.3352272727272727 Validation accuracy:  0.3736559139784946\n",
            "epoch number:  12 Training accuracy:  0.3352272727272727 Validation accuracy:  0.3736559139784946\n",
            "epoch number:  12 Training accuracy:  0.3352272727272727 Validation accuracy:  0.3736559139784946\n",
            "epoch number:  12 Training accuracy:  0.3352272727272727 Validation accuracy:  0.3736559139784946\n",
            "epoch number:  12 Training accuracy:  0.3352272727272727 Validation accuracy:  0.3736559139784946\n",
            "epoch number:  12 Training accuracy:  0.3352272727272727 Validation accuracy:  0.3736559139784946\n",
            "epoch number:  12 Training accuracy:  0.3352272727272727 Validation accuracy:  0.3736559139784946\n",
            "epoch number:  12 Training accuracy:  0.3352272727272727 Validation accuracy:  0.3736559139784946\n",
            "epoch number:  12 Training accuracy:  0.3352272727272727 Validation accuracy:  0.3736559139784946\n",
            "epoch number:  12 Training accuracy:  0.3352272727272727 Validation accuracy:  0.3736559139784946\n",
            "epoch number:  12 Training accuracy:  0.3352272727272727 Validation accuracy:  0.3736559139784946\n",
            "epoch number:  12 Training accuracy:  0.3352272727272727 Validation accuracy:  0.3736559139784946\n",
            "epoch number:  12 Training accuracy:  0.3352272727272727 Validation accuracy:  0.3736559139784946\n",
            "epoch number:  12 Training accuracy:  0.3352272727272727 Validation accuracy:  0.3736559139784946\n",
            "epoch number:  12 Training accuracy:  0.3352272727272727 Validation accuracy:  0.3736559139784946\n",
            "epoch number:  12 Training accuracy:  0.3352272727272727 Validation accuracy:  0.3736559139784946\n",
            "epoch number:  12 Training accuracy:  0.3352272727272727 Validation accuracy:  0.3736559139784946\n",
            "epoch number:  13 Training accuracy:  0.35795454545454547 Validation accuracy:  0.3951612903225806\n",
            "epoch number:  13 Training accuracy:  0.35795454545454547 Validation accuracy:  0.3951612903225806\n",
            "epoch number:  13 Training accuracy:  0.35795454545454547 Validation accuracy:  0.3951612903225806\n",
            "epoch number:  13 Training accuracy:  0.35795454545454547 Validation accuracy:  0.3951612903225806\n",
            "epoch number:  13 Training accuracy:  0.35795454545454547 Validation accuracy:  0.3951612903225806\n",
            "epoch number:  13 Training accuracy:  0.35795454545454547 Validation accuracy:  0.3951612903225806\n",
            "epoch number:  13 Training accuracy:  0.35795454545454547 Validation accuracy:  0.3951612903225806\n",
            "epoch number:  13 Training accuracy:  0.35795454545454547 Validation accuracy:  0.3951612903225806\n",
            "epoch number:  13 Training accuracy:  0.35795454545454547 Validation accuracy:  0.3951612903225806\n",
            "epoch number:  13 Training accuracy:  0.35795454545454547 Validation accuracy:  0.3951612903225806\n",
            "epoch number:  13 Training accuracy:  0.35795454545454547 Validation accuracy:  0.3951612903225806\n",
            "epoch number:  13 Training accuracy:  0.35795454545454547 Validation accuracy:  0.3951612903225806\n",
            "epoch number:  13 Training accuracy:  0.35795454545454547 Validation accuracy:  0.3951612903225806\n",
            "epoch number:  13 Training accuracy:  0.35795454545454547 Validation accuracy:  0.3951612903225806\n",
            "epoch number:  13 Training accuracy:  0.35795454545454547 Validation accuracy:  0.3951612903225806\n",
            "epoch number:  13 Training accuracy:  0.35795454545454547 Validation accuracy:  0.3951612903225806\n",
            "epoch number:  13 Training accuracy:  0.35795454545454547 Validation accuracy:  0.3951612903225806\n",
            "epoch number:  13 Training accuracy:  0.35795454545454547 Validation accuracy:  0.3951612903225806\n",
            "epoch number:  13 Training accuracy:  0.35795454545454547 Validation accuracy:  0.3951612903225806\n",
            "epoch number:  13 Training accuracy:  0.35795454545454547 Validation accuracy:  0.3951612903225806\n",
            "epoch number:  13 Training accuracy:  0.35795454545454547 Validation accuracy:  0.3951612903225806\n",
            "epoch number:  13 Training accuracy:  0.35795454545454547 Validation accuracy:  0.3951612903225806\n",
            "epoch number:  13 Training accuracy:  0.35795454545454547 Validation accuracy:  0.3951612903225806\n",
            "epoch number:  13 Training accuracy:  0.35795454545454547 Validation accuracy:  0.3951612903225806\n",
            "epoch number:  13 Training accuracy:  0.35795454545454547 Validation accuracy:  0.3951612903225806\n",
            "epoch number:  13 Training accuracy:  0.35795454545454547 Validation accuracy:  0.3951612903225806\n",
            "epoch number:  13 Training accuracy:  0.35795454545454547 Validation accuracy:  0.3951612903225806\n",
            "epoch number:  13 Training accuracy:  0.35795454545454547 Validation accuracy:  0.3951612903225806\n",
            "epoch number:  13 Training accuracy:  0.35795454545454547 Validation accuracy:  0.3951612903225806\n",
            "epoch number:  13 Training accuracy:  0.35795454545454547 Validation accuracy:  0.3951612903225806\n",
            "epoch number:  13 Training accuracy:  0.35795454545454547 Validation accuracy:  0.3951612903225806\n",
            "epoch number:  14 Training accuracy:  0.38894628099173556 Validation accuracy:  0.4220430107526882\n",
            "epoch number:  14 Training accuracy:  0.38894628099173556 Validation accuracy:  0.4220430107526882\n",
            "epoch number:  14 Training accuracy:  0.38894628099173556 Validation accuracy:  0.4220430107526882\n",
            "epoch number:  14 Training accuracy:  0.38894628099173556 Validation accuracy:  0.4220430107526882\n",
            "epoch number:  14 Training accuracy:  0.38894628099173556 Validation accuracy:  0.4220430107526882\n",
            "epoch number:  14 Training accuracy:  0.38894628099173556 Validation accuracy:  0.4220430107526882\n",
            "epoch number:  14 Training accuracy:  0.38894628099173556 Validation accuracy:  0.4220430107526882\n",
            "epoch number:  14 Training accuracy:  0.38894628099173556 Validation accuracy:  0.4220430107526882\n",
            "epoch number:  14 Training accuracy:  0.38894628099173556 Validation accuracy:  0.4220430107526882\n",
            "epoch number:  14 Training accuracy:  0.38894628099173556 Validation accuracy:  0.4220430107526882\n",
            "epoch number:  14 Training accuracy:  0.38894628099173556 Validation accuracy:  0.4220430107526882\n",
            "epoch number:  14 Training accuracy:  0.38894628099173556 Validation accuracy:  0.4220430107526882\n",
            "epoch number:  14 Training accuracy:  0.38894628099173556 Validation accuracy:  0.4220430107526882\n",
            "epoch number:  14 Training accuracy:  0.38894628099173556 Validation accuracy:  0.4220430107526882\n",
            "epoch number:  14 Training accuracy:  0.38894628099173556 Validation accuracy:  0.4220430107526882\n",
            "epoch number:  14 Training accuracy:  0.38894628099173556 Validation accuracy:  0.4220430107526882\n",
            "epoch number:  14 Training accuracy:  0.38894628099173556 Validation accuracy:  0.4220430107526882\n",
            "epoch number:  14 Training accuracy:  0.38894628099173556 Validation accuracy:  0.4220430107526882\n",
            "epoch number:  14 Training accuracy:  0.38894628099173556 Validation accuracy:  0.4220430107526882\n",
            "epoch number:  14 Training accuracy:  0.38894628099173556 Validation accuracy:  0.4220430107526882\n",
            "epoch number:  14 Training accuracy:  0.38894628099173556 Validation accuracy:  0.4220430107526882\n",
            "epoch number:  14 Training accuracy:  0.38894628099173556 Validation accuracy:  0.4220430107526882\n",
            "epoch number:  14 Training accuracy:  0.38894628099173556 Validation accuracy:  0.4220430107526882\n",
            "epoch number:  14 Training accuracy:  0.38894628099173556 Validation accuracy:  0.4220430107526882\n",
            "epoch number:  14 Training accuracy:  0.38894628099173556 Validation accuracy:  0.4220430107526882\n",
            "epoch number:  14 Training accuracy:  0.38894628099173556 Validation accuracy:  0.4220430107526882\n",
            "epoch number:  14 Training accuracy:  0.38894628099173556 Validation accuracy:  0.4220430107526882\n",
            "epoch number:  14 Training accuracy:  0.38894628099173556 Validation accuracy:  0.4220430107526882\n",
            "epoch number:  14 Training accuracy:  0.38894628099173556 Validation accuracy:  0.4220430107526882\n",
            "epoch number:  14 Training accuracy:  0.38894628099173556 Validation accuracy:  0.4220430107526882\n",
            "epoch number:  14 Training accuracy:  0.38894628099173556 Validation accuracy:  0.4220430107526882\n",
            "epoch number:  15 Training accuracy:  0.365702479338843 Validation accuracy:  0.40591397849462363\n",
            "epoch number:  15 Training accuracy:  0.365702479338843 Validation accuracy:  0.40591397849462363\n",
            "epoch number:  15 Training accuracy:  0.365702479338843 Validation accuracy:  0.40591397849462363\n",
            "epoch number:  15 Training accuracy:  0.365702479338843 Validation accuracy:  0.40591397849462363\n",
            "epoch number:  15 Training accuracy:  0.365702479338843 Validation accuracy:  0.40591397849462363\n",
            "epoch number:  15 Training accuracy:  0.365702479338843 Validation accuracy:  0.40591397849462363\n",
            "epoch number:  15 Training accuracy:  0.365702479338843 Validation accuracy:  0.40591397849462363\n",
            "epoch number:  15 Training accuracy:  0.365702479338843 Validation accuracy:  0.40591397849462363\n",
            "epoch number:  15 Training accuracy:  0.365702479338843 Validation accuracy:  0.40591397849462363\n",
            "epoch number:  15 Training accuracy:  0.365702479338843 Validation accuracy:  0.40591397849462363\n",
            "epoch number:  15 Training accuracy:  0.365702479338843 Validation accuracy:  0.40591397849462363\n",
            "epoch number:  15 Training accuracy:  0.365702479338843 Validation accuracy:  0.40591397849462363\n",
            "epoch number:  15 Training accuracy:  0.365702479338843 Validation accuracy:  0.40591397849462363\n",
            "epoch number:  15 Training accuracy:  0.365702479338843 Validation accuracy:  0.40591397849462363\n",
            "epoch number:  15 Training accuracy:  0.365702479338843 Validation accuracy:  0.40591397849462363\n",
            "epoch number:  15 Training accuracy:  0.365702479338843 Validation accuracy:  0.40591397849462363\n",
            "epoch number:  15 Training accuracy:  0.365702479338843 Validation accuracy:  0.40591397849462363\n",
            "epoch number:  15 Training accuracy:  0.365702479338843 Validation accuracy:  0.40591397849462363\n",
            "epoch number:  15 Training accuracy:  0.365702479338843 Validation accuracy:  0.40591397849462363\n",
            "epoch number:  15 Training accuracy:  0.365702479338843 Validation accuracy:  0.40591397849462363\n",
            "epoch number:  15 Training accuracy:  0.365702479338843 Validation accuracy:  0.40591397849462363\n",
            "epoch number:  15 Training accuracy:  0.365702479338843 Validation accuracy:  0.40591397849462363\n",
            "epoch number:  15 Training accuracy:  0.365702479338843 Validation accuracy:  0.40591397849462363\n",
            "epoch number:  15 Training accuracy:  0.365702479338843 Validation accuracy:  0.40591397849462363\n",
            "epoch number:  15 Training accuracy:  0.365702479338843 Validation accuracy:  0.40591397849462363\n",
            "epoch number:  15 Training accuracy:  0.365702479338843 Validation accuracy:  0.40591397849462363\n",
            "epoch number:  15 Training accuracy:  0.365702479338843 Validation accuracy:  0.40591397849462363\n",
            "epoch number:  15 Training accuracy:  0.365702479338843 Validation accuracy:  0.40591397849462363\n",
            "epoch number:  15 Training accuracy:  0.365702479338843 Validation accuracy:  0.40591397849462363\n",
            "epoch number:  15 Training accuracy:  0.365702479338843 Validation accuracy:  0.40591397849462363\n",
            "epoch number:  15 Training accuracy:  0.365702479338843 Validation accuracy:  0.40591397849462363\n"
          ],
          "name": "stdout"
        },
        {
          "output_type": "display_data",
          "data": {
            "image/png": "[encoded data removed]",
            "text/plain": [
              "<Figure size 432x288 with 1 Axes>"
            ]
          },
          "metadata": {
            "tags": [],
            "needs_background": "light"
          }
        },
        {
          "output_type": "display_data",
          "data": {
            "image/png": "[encoded data removed]",
            "text/plain": [
              "<Figure size 432x288 with 1 Axes>"
            ]
          },
          "metadata": {
            "tags": [],
            "needs_background": "light"
          }
        },
        {
          "output_type": "stream",
          "text": [
            "Final Training Accuracy: 0.9979338842975206\n",
            "Final Validation Accuracy: 0.9032258064516129\n"
          ],
          "name": "stdout"
        }
      ]
    },
    {
      "cell_type": "markdown",
      "metadata": {
        "id": "hQ2tvqJ68Mqb"
      },
      "source": [
        "### Part (d) - 2 pt\n",
        "Report the test accuracy of your best model. How does the test accuracy compare to Part 3(d) without transfer learning?"
      ]
    },
    {
      "cell_type": "markdown",
      "metadata": {
        "id": "gWgpEiAXPYAX"
      },
      "source": [
        "**EXPLAINATION OF PART 4d**\r\n",
        "\r\n",
        "The test accuracy is much higher with transfer learning, where it is at 91%. Transfer learning is generally used for when we ourselves lack a significant amount of data. When we applied transfer learning, the model did not tend to overfit the training data. It also allowed the CNN to be much more enhanced with it already pretrained, with a high training and validation accuracy where they are relatively similar. This means, the data is able to generalize much better for real time data compared to my model in part 3d, where test accuracy was only 72%. This is due to the lack of training compared to the AlexNet model, so my model in part 3 was unable to generalize that well, with a greater error margin in its predictions. This is evident in the loss curve of the training as well, as the loss curve gets significantly smaller with less fluctuations over the number of iterations, unlike my loss curves in part 3d. "
      ]
    },
    {
      "cell_type": "code",
      "metadata": {
        "collapsed": true,
        "id": "yCp_kFSg8Q2T",
        "colab": {
          "base_uri": "https://localhost:8080/"
        },
        "outputId": "0f426f47-61bf-41e7-9bcd-bd4f8f440541"
      },
      "source": [
        "# Test accuracy of my model\r\n",
        "\r\n",
        "# Get the test loader first\r\n",
        "test_loader = torch.utils.data.DataLoader(test_alex_data, batch_size=64, shuffle=True)\r\n",
        "test_accuracy = get_accuracy(alex_model, test_loader)\r\n",
        "\r\n",
        "print(\"Test Accuracy for Model: \", test_accuracy)"
      ],
      "execution_count": 81,
      "outputs": [
        {
          "output_type": "stream",
          "text": [
            "Test Accuracy for Model:  0.9168900804289544\n"
          ],
          "name": "stdout"
        }
      ]
    },
    {
      "cell_type": "markdown",
      "metadata": {
        "id": "vPBcaDuNcsA8"
      },
      "source": [
        "### 5. Additional Testing [5 pt]\n",
        "As a final step in testing we will be revisiting the sample images that you had collected and submitted at the start of this lab. These sample images should be untouched and will be used to demonstrate how well your model works at identifying your hand guestures. \n",
        "\n",
        "Using the best transfer learning model developed in Part 4. Report the test accuracy on your sample images and how it compares to the test accuracy obtained in Part 4(d)? How well did your model do for the different hand guestures? Provide an explanation for why you think your model performed the way it did?"
      ]
    },
    {
      "cell_type": "markdown",
      "metadata": {
        "id": "68QRBn7DRz69"
      },
      "source": [
        "**EXPLAINATION FOR PART 5**\r\n",
        "\r\n",
        "The test accuracy for my own submission dataset is similar to part 4d, where it was 91.6% and for my submission, it was 92.5%. There was a slight improvement when it came to my own dataset because of several reasons. \r\n",
        "\r\n",
        "When comparing my submission vs the test dataset, all of the images in my submission was by just me, which means there was less variety when it came to the images. There was a not as much of data augmentation as the testing dataset, because the lighting was similar, and it was just my hand which means the model was able to predict my own set of images slightly better due to a dataset images being similar to one another.\r\n",
        "\r\n",
        "Apart from the lack of variation, my dataset was also smaller compared to the test dataset, which is not the best representation of real time data as it may have just coincidentally predicted my submission data well, but may not predict it well for other data, where there is more variety within the images. \r\n",
        "\r\n"
      ]
    },
    {
      "cell_type": "code",
      "metadata": {
        "collapsed": true,
        "id": "mquOqqZ7csA8",
        "colab": {
          "base_uri": "https://localhost:8080/"
        },
        "outputId": "55a67b0b-27ac-40c3-9baf-1f23c0607ed5"
      },
      "source": [
        "# Get the small loader first\r\n",
        "small_loader = torch.utils.data.DataLoader(small_alex_data, batch_size=64, shuffle=True)\r\n",
        "small_accuracy = get_accuracy(alex_model, small_loader)\r\n",
        "\r\n",
        "print(\"Test Accuracy for Model: \", small_accuracy)"
      ],
      "execution_count": 108,
      "outputs": [
        {
          "output_type": "stream",
          "text": [
            "Test Accuracy for Model:  0.9259259259259259\n"
          ],
          "name": "stdout"
        }
      ]
    }
  ]
}